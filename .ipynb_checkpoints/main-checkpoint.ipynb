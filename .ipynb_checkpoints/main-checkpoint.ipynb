{
 "cells": [
  {
   "cell_type": "markdown",
   "metadata": {},
   "source": [
    "# Bicycle Commuting Data"
   ]
  },
  {
   "cell_type": "code",
   "execution_count": 1,
   "metadata": {},
   "outputs": [],
   "source": [
    "import pandas as pd\n",
    "import numpy as np\n",
    "import re"
   ]
  },
  {
   "cell_type": "markdown",
   "metadata": {},
   "source": [
    "The data used for the analysis was taken from three datasets of Mexico City's government [website](https://datos.cdmx.gob.mx/):\n",
    "\n",
    "| Dataset                         | Location    | Date of download |\n",
    "| ------------------------------- | ------------------------------------------------------------ | ---------------- |\n",
    "| Bicycle counter                 | https://datos.cdmx.gob.mx/dataset/contador-ciclistas         | 11-Dec-2020      |\n",
    "| Road accidents                  | https://datos.cdmx.gob.mx/dataset/incidentes-viales-c5       | 11-Dec-2020      |\n",
    "| Estudio de Conteo ciclista 2018 | https://datos.cdmx.gob.mx/dataset/estudio-de-conteo-ciclista-2018 | 11-Dec-2020      |"
   ]
  },
  {
   "cell_type": "markdown",
   "metadata": {},
   "source": [
    "I have already downloaded them in the /Data directory, so let's import them:"
   ]
  },
  {
   "cell_type": "code",
   "execution_count": 23,
   "metadata": {},
   "outputs": [],
   "source": [
    "contador = pd.read_csv('Data/contador-ciclistas.csv')\n",
    "incidentes = pd.read_csv('Data/incidentes-viales-c5.csv')\n",
    "estudio = pd.read_csv('Data/estudio-de-conteo-ciclista-2018.csv')"
   ]
  },
  {
   "cell_type": "markdown",
   "metadata": {},
   "source": [
    "## 1. Bicycle counter"
   ]
  },
  {
   "cell_type": "markdown",
   "metadata": {},
   "source": [
    "### Data exploration"
   ]
  },
  {
   "cell_type": "code",
   "execution_count": 5,
   "metadata": {},
   "outputs": [
    {
     "data": {
      "text/html": [
       "<div>\n",
       "<style scoped>\n",
       "    .dataframe tbody tr th:only-of-type {\n",
       "        vertical-align: middle;\n",
       "    }\n",
       "\n",
       "    .dataframe tbody tr th {\n",
       "        vertical-align: top;\n",
       "    }\n",
       "\n",
       "    .dataframe thead th {\n",
       "        text-align: right;\n",
       "    }\n",
       "</style>\n",
       "<table border=\"1\" class=\"dataframe\">\n",
       "  <thead>\n",
       "    <tr style=\"text-align: right;\">\n",
       "      <th></th>\n",
       "      <th>Día de la semana</th>\n",
       "      <th>Día</th>\n",
       "      <th>Mes</th>\n",
       "      <th>Año</th>\n",
       "      <th>Contador Ruta Reforma222</th>\n",
       "      <th>Contador Ruta Revolución</th>\n",
       "      <th>Contador Ruta Patriotismo</th>\n",
       "    </tr>\n",
       "  </thead>\n",
       "  <tbody>\n",
       "    <tr>\n",
       "      <th>0</th>\n",
       "      <td>jueves</td>\n",
       "      <td>5</td>\n",
       "      <td>diciembre</td>\n",
       "      <td>2013</td>\n",
       "      <td>2516.0</td>\n",
       "      <td>NaN</td>\n",
       "      <td>NaN</td>\n",
       "    </tr>\n",
       "    <tr>\n",
       "      <th>1</th>\n",
       "      <td>lunes</td>\n",
       "      <td>9</td>\n",
       "      <td>diciembre</td>\n",
       "      <td>2013</td>\n",
       "      <td>2132.0</td>\n",
       "      <td>NaN</td>\n",
       "      <td>NaN</td>\n",
       "    </tr>\n",
       "    <tr>\n",
       "      <th>2</th>\n",
       "      <td>viernes</td>\n",
       "      <td>22</td>\n",
       "      <td>junio</td>\n",
       "      <td>2018</td>\n",
       "      <td>2913.0</td>\n",
       "      <td>980.0</td>\n",
       "      <td>1163.0</td>\n",
       "    </tr>\n",
       "    <tr>\n",
       "      <th>3</th>\n",
       "      <td>martes</td>\n",
       "      <td>10</td>\n",
       "      <td>julio</td>\n",
       "      <td>2018</td>\n",
       "      <td>2531.0</td>\n",
       "      <td>877.0</td>\n",
       "      <td>1013.0</td>\n",
       "    </tr>\n",
       "    <tr>\n",
       "      <th>4</th>\n",
       "      <td>sábado</td>\n",
       "      <td>7</td>\n",
       "      <td>julio</td>\n",
       "      <td>2018</td>\n",
       "      <td>1534.0</td>\n",
       "      <td>616.0</td>\n",
       "      <td>584.0</td>\n",
       "    </tr>\n",
       "  </tbody>\n",
       "</table>\n",
       "</div>"
      ],
      "text/plain": [
       "  Día de la semana  Día        Mes   Año  Contador Ruta Reforma222  \\\n",
       "0           jueves    5  diciembre  2013                    2516.0   \n",
       "1            lunes    9  diciembre  2013                    2132.0   \n",
       "2          viernes   22      junio  2018                    2913.0   \n",
       "3           martes   10      julio  2018                    2531.0   \n",
       "4           sábado    7      julio  2018                    1534.0   \n",
       "\n",
       "   Contador Ruta Revolución  Contador Ruta Patriotismo  \n",
       "0                       NaN                        NaN  \n",
       "1                       NaN                        NaN  \n",
       "2                     980.0                     1163.0  \n",
       "3                     877.0                     1013.0  \n",
       "4                     616.0                      584.0  "
      ]
     },
     "execution_count": 5,
     "metadata": {},
     "output_type": "execute_result"
    }
   ],
   "source": [
    "contador.head()"
   ]
  },
  {
   "cell_type": "code",
   "execution_count": 7,
   "metadata": {},
   "outputs": [
    {
     "name": "stdout",
     "output_type": "stream",
     "text": [
      "<class 'pandas.core.frame.DataFrame'>\n",
      "RangeIndex: 2374 entries, 0 to 2373\n",
      "Data columns (total 7 columns):\n",
      " #   Column                     Non-Null Count  Dtype  \n",
      "---  ------                     --------------  -----  \n",
      " 0   Día de la semana           2374 non-null   object \n",
      " 1   Día                        2374 non-null   int64  \n",
      " 2   Mes                        2374 non-null   object \n",
      " 3   Año                        2374 non-null   int64  \n",
      " 4   Contador Ruta Reforma222   2150 non-null   float64\n",
      " 5   Contador Ruta Revolución   1382 non-null   float64\n",
      " 6   Contador Ruta Patriotismo  1386 non-null   float64\n",
      "dtypes: float64(3), int64(2), object(2)\n",
      "memory usage: 130.0+ KB\n"
     ]
    }
   ],
   "source": [
    "contador.info()"
   ]
  },
  {
   "cell_type": "code",
   "execution_count": 14,
   "metadata": {},
   "outputs": [
    {
     "data": {
      "text/plain": [
       "Día de la semana               0\n",
       "Día                            0\n",
       "Mes                            0\n",
       "Año                            0\n",
       "Contador Ruta Reforma222     224\n",
       "Contador Ruta Revolución     992\n",
       "Contador Ruta Patriotismo    988\n",
       "dtype: int64"
      ]
     },
     "execution_count": 14,
     "metadata": {},
     "output_type": "execute_result"
    }
   ],
   "source": [
    "contador.isnull().sum()"
   ]
  },
  {
   "cell_type": "markdown",
   "metadata": {},
   "source": [
    "It seems that counters didn't start recolecting data at the same time. We should see when did each start. But first, let's transform the dates to a datetime format."
   ]
  },
  {
   "cell_type": "code",
   "execution_count": 24,
   "metadata": {},
   "outputs": [],
   "source": [
    "# Transform months to categories to order them.\n",
    "meses = ['enero', 'febrero', 'marzo', 'abril', 'mayo', 'junio', 'julio', 'agosto', 'septiembre', 'octubre', 'noviembre', 'diciembre']\n",
    "contador['Mes'] = pd.Categorical(contador['Mes'], meses)\n",
    "\n",
    "# Order values in descending order.\n",
    "contador = contador.sort_values(['Año', 'Mes', 'Día'])\n",
    "\n",
    "# Change months back to object type\n",
    "contador['Mes'] = contador['Mes'].astype('object')"
   ]
  },
  {
   "cell_type": "code",
   "execution_count": 27,
   "metadata": {},
   "outputs": [
    {
     "data": {
      "text/html": [
       "<div>\n",
       "<style scoped>\n",
       "    .dataframe tbody tr th:only-of-type {\n",
       "        vertical-align: middle;\n",
       "    }\n",
       "\n",
       "    .dataframe tbody tr th {\n",
       "        vertical-align: top;\n",
       "    }\n",
       "\n",
       "    .dataframe thead th {\n",
       "        text-align: right;\n",
       "    }\n",
       "</style>\n",
       "<table border=\"1\" class=\"dataframe\">\n",
       "  <thead>\n",
       "    <tr style=\"text-align: right;\">\n",
       "      <th></th>\n",
       "      <th>Día de la semana</th>\n",
       "      <th>Día</th>\n",
       "      <th>Mes</th>\n",
       "      <th>Año</th>\n",
       "      <th>Contador Ruta Reforma222</th>\n",
       "      <th>Contador Ruta Revolución</th>\n",
       "      <th>Contador Ruta Patriotismo</th>\n",
       "    </tr>\n",
       "  </thead>\n",
       "  <tbody>\n",
       "    <tr>\n",
       "      <th>1005</th>\n",
       "      <td>sábado</td>\n",
       "      <td>16</td>\n",
       "      <td>noviembre</td>\n",
       "      <td>2013</td>\n",
       "      <td>613.0</td>\n",
       "      <td>NaN</td>\n",
       "      <td>NaN</td>\n",
       "    </tr>\n",
       "    <tr>\n",
       "      <th>1662</th>\n",
       "      <td>domingo</td>\n",
       "      <td>17</td>\n",
       "      <td>noviembre</td>\n",
       "      <td>2013</td>\n",
       "      <td>1084.0</td>\n",
       "      <td>NaN</td>\n",
       "      <td>NaN</td>\n",
       "    </tr>\n",
       "    <tr>\n",
       "      <th>295</th>\n",
       "      <td>lunes</td>\n",
       "      <td>18</td>\n",
       "      <td>noviembre</td>\n",
       "      <td>2013</td>\n",
       "      <td>1073.0</td>\n",
       "      <td>NaN</td>\n",
       "      <td>NaN</td>\n",
       "    </tr>\n",
       "    <tr>\n",
       "      <th>984</th>\n",
       "      <td>martes</td>\n",
       "      <td>19</td>\n",
       "      <td>noviembre</td>\n",
       "      <td>2013</td>\n",
       "      <td>1344.0</td>\n",
       "      <td>NaN</td>\n",
       "      <td>NaN</td>\n",
       "    </tr>\n",
       "  </tbody>\n",
       "</table>\n",
       "</div>"
      ],
      "text/plain": [
       "     Día de la semana  Día        Mes   Año  Contador Ruta Reforma222  \\\n",
       "1005           sábado   16  noviembre  2013                     613.0   \n",
       "1662          domingo   17  noviembre  2013                    1084.0   \n",
       "295             lunes   18  noviembre  2013                    1073.0   \n",
       "984            martes   19  noviembre  2013                    1344.0   \n",
       "\n",
       "      Contador Ruta Revolución  Contador Ruta Patriotismo  \n",
       "1005                       NaN                        NaN  \n",
       "1662                       NaN                        NaN  \n",
       "295                        NaN                        NaN  \n",
       "984                        NaN                        NaN  "
      ]
     },
     "execution_count": 27,
     "metadata": {},
     "output_type": "execute_result"
    }
   ],
   "source": [
    "contador.head(4)"
   ]
  },
  {
   "cell_type": "code",
   "execution_count": 28,
   "metadata": {},
   "outputs": [],
   "source": [
    "# Label-encode months\n",
    "dict_meses = {}\n",
    "number = 0\n",
    "for mes in meses: \n",
    "    number += 1\n",
    "    dict_meses[mes] = number\n",
    "    \n",
    "contador['Mes'] = contador['Mes'].map(dict_meses)"
   ]
  },
  {
   "cell_type": "code",
   "execution_count": 29,
   "metadata": {},
   "outputs": [
    {
     "data": {
      "text/html": [
       "<div>\n",
       "<style scoped>\n",
       "    .dataframe tbody tr th:only-of-type {\n",
       "        vertical-align: middle;\n",
       "    }\n",
       "\n",
       "    .dataframe tbody tr th {\n",
       "        vertical-align: top;\n",
       "    }\n",
       "\n",
       "    .dataframe thead th {\n",
       "        text-align: right;\n",
       "    }\n",
       "</style>\n",
       "<table border=\"1\" class=\"dataframe\">\n",
       "  <thead>\n",
       "    <tr style=\"text-align: right;\">\n",
       "      <th></th>\n",
       "      <th>Día de la semana</th>\n",
       "      <th>Día</th>\n",
       "      <th>Mes</th>\n",
       "      <th>Año</th>\n",
       "      <th>Contador Ruta Reforma222</th>\n",
       "      <th>Contador Ruta Revolución</th>\n",
       "      <th>Contador Ruta Patriotismo</th>\n",
       "    </tr>\n",
       "  </thead>\n",
       "  <tbody>\n",
       "    <tr>\n",
       "      <th>1005</th>\n",
       "      <td>sábado</td>\n",
       "      <td>16</td>\n",
       "      <td>11</td>\n",
       "      <td>2013</td>\n",
       "      <td>613.0</td>\n",
       "      <td>NaN</td>\n",
       "      <td>NaN</td>\n",
       "    </tr>\n",
       "    <tr>\n",
       "      <th>1662</th>\n",
       "      <td>domingo</td>\n",
       "      <td>17</td>\n",
       "      <td>11</td>\n",
       "      <td>2013</td>\n",
       "      <td>1084.0</td>\n",
       "      <td>NaN</td>\n",
       "      <td>NaN</td>\n",
       "    </tr>\n",
       "    <tr>\n",
       "      <th>295</th>\n",
       "      <td>lunes</td>\n",
       "      <td>18</td>\n",
       "      <td>11</td>\n",
       "      <td>2013</td>\n",
       "      <td>1073.0</td>\n",
       "      <td>NaN</td>\n",
       "      <td>NaN</td>\n",
       "    </tr>\n",
       "    <tr>\n",
       "      <th>984</th>\n",
       "      <td>martes</td>\n",
       "      <td>19</td>\n",
       "      <td>11</td>\n",
       "      <td>2013</td>\n",
       "      <td>1344.0</td>\n",
       "      <td>NaN</td>\n",
       "      <td>NaN</td>\n",
       "    </tr>\n",
       "  </tbody>\n",
       "</table>\n",
       "</div>"
      ],
      "text/plain": [
       "     Día de la semana  Día  Mes   Año  Contador Ruta Reforma222  \\\n",
       "1005           sábado   16   11  2013                     613.0   \n",
       "1662          domingo   17   11  2013                    1084.0   \n",
       "295             lunes   18   11  2013                    1073.0   \n",
       "984            martes   19   11  2013                    1344.0   \n",
       "\n",
       "      Contador Ruta Revolución  Contador Ruta Patriotismo  \n",
       "1005                       NaN                        NaN  \n",
       "1662                       NaN                        NaN  \n",
       "295                        NaN                        NaN  \n",
       "984                        NaN                        NaN  "
      ]
     },
     "execution_count": 29,
     "metadata": {},
     "output_type": "execute_result"
    }
   ],
   "source": [
    "contador.head(4)"
   ]
  },
  {
   "cell_type": "code",
   "execution_count": 8,
   "metadata": {},
   "outputs": [],
   "source": [
    "contador.insert(4, 'Fecha', pd.to_datetime(contador.Año*10000+contador.Mes*100+contador.Día, format='%Y%m%d'))"
   ]
  },
  {
   "cell_type": "code",
   "execution_count": null,
   "metadata": {},
   "outputs": [],
   "source": [
    "contador[contador['Contador Ruta Reforma222'].notnull()].sort_values(by='Año')"
   ]
  },
  {
   "cell_type": "code",
   "execution_count": 9,
   "metadata": {},
   "outputs": [],
   "source": [
    "contador = contador.reset_index(drop=True)"
   ]
  },
  {
   "cell_type": "code",
   "execution_count": 10,
   "metadata": {
    "scrolled": true
   },
   "outputs": [],
   "source": [
    "dict_meses_inverso = {}\n",
    "for mes, numero in dict_meses.items():\n",
    "    dict_meses_inverso[numero] = mes"
   ]
  },
  {
   "cell_type": "code",
   "execution_count": 11,
   "metadata": {},
   "outputs": [],
   "source": [
    "contador['Mes'] = contador['Mes'].map(dict_meses_inverso)"
   ]
  },
  {
   "cell_type": "code",
   "execution_count": 12,
   "metadata": {},
   "outputs": [],
   "source": [
    "contador['Día de la semana'] = contador['Día de la semana'].str.replace('á', 'a').str.replace('é', 'e')"
   ]
  },
  {
   "cell_type": "code",
   "execution_count": 13,
   "metadata": {},
   "outputs": [],
   "source": [
    "contador['Contador Ruta Reforma222'] = contador['Contador Ruta Reforma222'].fillna(0)\n",
    "contador['Contador Ruta Revolución'] = contador['Contador Ruta Revolución'].fillna(0)\n",
    "contador['Contador Ruta Patriotismo'] = contador['Contador Ruta Patriotismo'].fillna(0)"
   ]
  },
  {
   "cell_type": "code",
   "execution_count": 14,
   "metadata": {},
   "outputs": [],
   "source": [
    "contador['Contador Ruta Reforma222'] = contador['Contador Ruta Reforma222'].astype('int64')\n",
    "contador['Contador Ruta Revolución'] = contador['Contador Ruta Revolución'].astype('int64')\n",
    "contador['Contador Ruta Patriotismo'] = contador['Contador Ruta Patriotismo'].astype('int64')"
   ]
  },
  {
   "cell_type": "code",
   "execution_count": 15,
   "metadata": {},
   "outputs": [],
   "source": [
    "contador['suma_total'] = contador['Contador Ruta Patriotismo'] + contador['Contador Ruta Revolución'] + contador['Contador Ruta Reforma222']"
   ]
  },
  {
   "cell_type": "code",
   "execution_count": 16,
   "metadata": {},
   "outputs": [],
   "source": [
    "contador_final = contador"
   ]
  },
  {
   "cell_type": "code",
   "execution_count": 17,
   "metadata": {
    "scrolled": false
   },
   "outputs": [
    {
     "data": {
      "text/html": [
       "<div>\n",
       "<style scoped>\n",
       "    .dataframe tbody tr th:only-of-type {\n",
       "        vertical-align: middle;\n",
       "    }\n",
       "\n",
       "    .dataframe tbody tr th {\n",
       "        vertical-align: top;\n",
       "    }\n",
       "\n",
       "    .dataframe thead th {\n",
       "        text-align: right;\n",
       "    }\n",
       "</style>\n",
       "<table border=\"1\" class=\"dataframe\">\n",
       "  <thead>\n",
       "    <tr style=\"text-align: right;\">\n",
       "      <th></th>\n",
       "      <th>Día de la semana</th>\n",
       "      <th>Día</th>\n",
       "      <th>Mes</th>\n",
       "      <th>Año</th>\n",
       "      <th>Fecha</th>\n",
       "      <th>Contador Ruta Reforma222</th>\n",
       "      <th>Contador Ruta Revolución</th>\n",
       "      <th>Contador Ruta Patriotismo</th>\n",
       "      <th>suma_total</th>\n",
       "    </tr>\n",
       "  </thead>\n",
       "  <tbody>\n",
       "    <tr>\n",
       "      <th>0</th>\n",
       "      <td>sabado</td>\n",
       "      <td>16</td>\n",
       "      <td>noviembre</td>\n",
       "      <td>2013</td>\n",
       "      <td>2013-11-16</td>\n",
       "      <td>613</td>\n",
       "      <td>0</td>\n",
       "      <td>0</td>\n",
       "      <td>613</td>\n",
       "    </tr>\n",
       "    <tr>\n",
       "      <th>1</th>\n",
       "      <td>domingo</td>\n",
       "      <td>17</td>\n",
       "      <td>noviembre</td>\n",
       "      <td>2013</td>\n",
       "      <td>2013-11-17</td>\n",
       "      <td>1084</td>\n",
       "      <td>0</td>\n",
       "      <td>0</td>\n",
       "      <td>1084</td>\n",
       "    </tr>\n",
       "    <tr>\n",
       "      <th>2</th>\n",
       "      <td>lunes</td>\n",
       "      <td>18</td>\n",
       "      <td>noviembre</td>\n",
       "      <td>2013</td>\n",
       "      <td>2013-11-18</td>\n",
       "      <td>1073</td>\n",
       "      <td>0</td>\n",
       "      <td>0</td>\n",
       "      <td>1073</td>\n",
       "    </tr>\n",
       "    <tr>\n",
       "      <th>3</th>\n",
       "      <td>martes</td>\n",
       "      <td>19</td>\n",
       "      <td>noviembre</td>\n",
       "      <td>2013</td>\n",
       "      <td>2013-11-19</td>\n",
       "      <td>1344</td>\n",
       "      <td>0</td>\n",
       "      <td>0</td>\n",
       "      <td>1344</td>\n",
       "    </tr>\n",
       "    <tr>\n",
       "      <th>4</th>\n",
       "      <td>miercoles</td>\n",
       "      <td>20</td>\n",
       "      <td>noviembre</td>\n",
       "      <td>2013</td>\n",
       "      <td>2013-11-20</td>\n",
       "      <td>2394</td>\n",
       "      <td>0</td>\n",
       "      <td>0</td>\n",
       "      <td>2394</td>\n",
       "    </tr>\n",
       "  </tbody>\n",
       "</table>\n",
       "</div>"
      ],
      "text/plain": [
       "  Día de la semana  Día        Mes   Año      Fecha  Contador Ruta Reforma222  \\\n",
       "0           sabado   16  noviembre  2013 2013-11-16                       613   \n",
       "1          domingo   17  noviembre  2013 2013-11-17                      1084   \n",
       "2            lunes   18  noviembre  2013 2013-11-18                      1073   \n",
       "3           martes   19  noviembre  2013 2013-11-19                      1344   \n",
       "4        miercoles   20  noviembre  2013 2013-11-20                      2394   \n",
       "\n",
       "   Contador Ruta Revolución  Contador Ruta Patriotismo  suma_total  \n",
       "0                         0                          0         613  \n",
       "1                         0                          0        1084  \n",
       "2                         0                          0        1073  \n",
       "3                         0                          0        1344  \n",
       "4                         0                          0        2394  "
      ]
     },
     "execution_count": 17,
     "metadata": {},
     "output_type": "execute_result"
    }
   ],
   "source": [
    "contador_final.head()"
   ]
  },
  {
   "cell_type": "code",
   "execution_count": 18,
   "metadata": {},
   "outputs": [
    {
     "name": "stdout",
     "output_type": "stream",
     "text": [
      "<class 'pandas.core.frame.DataFrame'>\n",
      "RangeIndex: 2374 entries, 0 to 2373\n",
      "Data columns (total 9 columns):\n",
      " #   Column                     Non-Null Count  Dtype         \n",
      "---  ------                     --------------  -----         \n",
      " 0   Día de la semana           2374 non-null   object        \n",
      " 1   Día                        2374 non-null   int64         \n",
      " 2   Mes                        2374 non-null   object        \n",
      " 3   Año                        2374 non-null   int64         \n",
      " 4   Fecha                      2374 non-null   datetime64[ns]\n",
      " 5   Contador Ruta Reforma222   2374 non-null   int64         \n",
      " 6   Contador Ruta Revolución   2374 non-null   int64         \n",
      " 7   Contador Ruta Patriotismo  2374 non-null   int64         \n",
      " 8   suma_total                 2374 non-null   int64         \n",
      "dtypes: datetime64[ns](1), int64(6), object(2)\n",
      "memory usage: 167.0+ KB\n"
     ]
    }
   ],
   "source": [
    "contador_final.info()"
   ]
  },
  {
   "cell_type": "code",
   "execution_count": 19,
   "metadata": {},
   "outputs": [],
   "source": [
    "contador_final.to_csv('Data/contador_final.csv', index=False)"
   ]
  },
  {
   "cell_type": "markdown",
   "metadata": {},
   "source": [
    "# Incidentes ciclistas"
   ]
  },
  {
   "cell_type": "code",
   "execution_count": 20,
   "metadata": {},
   "outputs": [],
   "source": [
    "incidentes = incidentes[['dia_semana', 'fecha_creacion', 'hora_creacion', 'mes', 'delegacion_inicio', 'latitud', 'longitud', 'geopoint']]"
   ]
  },
  {
   "cell_type": "code",
   "execution_count": 21,
   "metadata": {
    "scrolled": false
   },
   "outputs": [
    {
     "name": "stdout",
     "output_type": "stream",
     "text": [
      "<class 'pandas.core.frame.DataFrame'>\n",
      "RangeIndex: 2924 entries, 0 to 2923\n",
      "Data columns (total 8 columns):\n",
      " #   Column             Non-Null Count  Dtype  \n",
      "---  ------             --------------  -----  \n",
      " 0   dia_semana         2924 non-null   object \n",
      " 1   fecha_creacion     2924 non-null   object \n",
      " 2   hora_creacion      2924 non-null   object \n",
      " 3   mes                2924 non-null   int64  \n",
      " 4   delegacion_inicio  2924 non-null   object \n",
      " 5   latitud            2924 non-null   float64\n",
      " 6   longitud           2924 non-null   float64\n",
      " 7   geopoint           2924 non-null   object \n",
      "dtypes: float64(2), int64(1), object(5)\n",
      "memory usage: 182.9+ KB\n"
     ]
    }
   ],
   "source": [
    "incidentes.info()"
   ]
  },
  {
   "cell_type": "code",
   "execution_count": 22,
   "metadata": {},
   "outputs": [],
   "source": [
    "incidentes['dia_semana'] = incidentes['dia_semana'].str.lower()"
   ]
  },
  {
   "cell_type": "code",
   "execution_count": 23,
   "metadata": {},
   "outputs": [],
   "source": [
    "# Regex matches\n",
    "r = re.compile(r'dddd')\n",
    "incidentes.loc[incidentes['hora_creacion'].str.match(r'\\d\\d')==False, 'hora_creacion'] = '00:00:00'"
   ]
  },
  {
   "cell_type": "code",
   "execution_count": 24,
   "metadata": {},
   "outputs": [],
   "source": [
    "fecha_hora = pd.Series(incidentes['fecha_creacion'] + ' ' + incidentes['hora_creacion'])"
   ]
  },
  {
   "cell_type": "code",
   "execution_count": 25,
   "metadata": {},
   "outputs": [],
   "source": [
    "incidentes.insert(1, 'fecha_hora', fecha_hora)"
   ]
  },
  {
   "cell_type": "code",
   "execution_count": 26,
   "metadata": {},
   "outputs": [],
   "source": [
    "incidentes['fecha_hora'] = pd.to_datetime(incidentes['fecha_hora'], format='%d/%m/%Y %H:%M:%S')"
   ]
  },
  {
   "cell_type": "code",
   "execution_count": 27,
   "metadata": {},
   "outputs": [],
   "source": [
    "incidentes['fecha_creacion'] = pd.to_datetime(incidentes['fecha_creacion'], format='%d/%m/%Y')"
   ]
  },
  {
   "cell_type": "code",
   "execution_count": 28,
   "metadata": {},
   "outputs": [
    {
     "name": "stdout",
     "output_type": "stream",
     "text": [
      "<class 'pandas.core.frame.DataFrame'>\n",
      "RangeIndex: 2924 entries, 0 to 2923\n",
      "Data columns (total 9 columns):\n",
      " #   Column             Non-Null Count  Dtype         \n",
      "---  ------             --------------  -----         \n",
      " 0   dia_semana         2924 non-null   object        \n",
      " 1   fecha_hora         2924 non-null   datetime64[ns]\n",
      " 2   fecha_creacion     2924 non-null   datetime64[ns]\n",
      " 3   hora_creacion      2924 non-null   object        \n",
      " 4   mes                2924 non-null   int64         \n",
      " 5   delegacion_inicio  2924 non-null   object        \n",
      " 6   latitud            2924 non-null   float64       \n",
      " 7   longitud           2924 non-null   float64       \n",
      " 8   geopoint           2924 non-null   object        \n",
      "dtypes: datetime64[ns](2), float64(2), int64(1), object(4)\n",
      "memory usage: 205.7+ KB\n"
     ]
    }
   ],
   "source": [
    "incidentes.info()"
   ]
  },
  {
   "cell_type": "code",
   "execution_count": 29,
   "metadata": {},
   "outputs": [
    {
     "data": {
      "text/html": [
       "<div>\n",
       "<style scoped>\n",
       "    .dataframe tbody tr th:only-of-type {\n",
       "        vertical-align: middle;\n",
       "    }\n",
       "\n",
       "    .dataframe tbody tr th {\n",
       "        vertical-align: top;\n",
       "    }\n",
       "\n",
       "    .dataframe thead th {\n",
       "        text-align: right;\n",
       "    }\n",
       "</style>\n",
       "<table border=\"1\" class=\"dataframe\">\n",
       "  <thead>\n",
       "    <tr style=\"text-align: right;\">\n",
       "      <th></th>\n",
       "      <th>dia_semana</th>\n",
       "      <th>fecha_hora</th>\n",
       "      <th>fecha_creacion</th>\n",
       "      <th>hora_creacion</th>\n",
       "      <th>mes</th>\n",
       "      <th>delegacion_inicio</th>\n",
       "      <th>latitud</th>\n",
       "      <th>longitud</th>\n",
       "      <th>geopoint</th>\n",
       "    </tr>\n",
       "  </thead>\n",
       "  <tbody>\n",
       "    <tr>\n",
       "      <th>0</th>\n",
       "      <td>miércoles</td>\n",
       "      <td>2019-10-16 09:04:53</td>\n",
       "      <td>2019-10-16</td>\n",
       "      <td>09:04:53</td>\n",
       "      <td>10</td>\n",
       "      <td>VENUSTIANO CARRANZA</td>\n",
       "      <td>19.44961</td>\n",
       "      <td>-99.11384</td>\n",
       "      <td>19.44961002,-99.11383992</td>\n",
       "    </tr>\n",
       "    <tr>\n",
       "      <th>1</th>\n",
       "      <td>miércoles</td>\n",
       "      <td>2019-10-16 13:35:39</td>\n",
       "      <td>2019-10-16</td>\n",
       "      <td>13:35:39</td>\n",
       "      <td>10</td>\n",
       "      <td>IZTAPALAPA</td>\n",
       "      <td>19.36409</td>\n",
       "      <td>-99.06687</td>\n",
       "      <td>19.36409004,-99.06687</td>\n",
       "    </tr>\n",
       "    <tr>\n",
       "      <th>2</th>\n",
       "      <td>miércoles</td>\n",
       "      <td>2019-10-16 17:35:24</td>\n",
       "      <td>2019-10-16</td>\n",
       "      <td>17:35:24</td>\n",
       "      <td>10</td>\n",
       "      <td>CUAUHTEMOC</td>\n",
       "      <td>19.42287</td>\n",
       "      <td>-99.12929</td>\n",
       "      <td>19.42287003,-99.12929004</td>\n",
       "    </tr>\n",
       "    <tr>\n",
       "      <th>3</th>\n",
       "      <td>jueves</td>\n",
       "      <td>2019-10-17 11:27:11</td>\n",
       "      <td>2019-10-17</td>\n",
       "      <td>11:27:11</td>\n",
       "      <td>10</td>\n",
       "      <td>CUAUHTEMOC</td>\n",
       "      <td>19.43451</td>\n",
       "      <td>-99.14268</td>\n",
       "      <td>19.43451,-99.14267988</td>\n",
       "    </tr>\n",
       "    <tr>\n",
       "      <th>4</th>\n",
       "      <td>viernes</td>\n",
       "      <td>2019-10-18 18:11:00</td>\n",
       "      <td>2019-10-18</td>\n",
       "      <td>18:11:00</td>\n",
       "      <td>10</td>\n",
       "      <td>BENITO JUAREZ</td>\n",
       "      <td>19.38966</td>\n",
       "      <td>-99.18504</td>\n",
       "      <td>19.38966003,-99.18504</td>\n",
       "    </tr>\n",
       "  </tbody>\n",
       "</table>\n",
       "</div>"
      ],
      "text/plain": [
       "  dia_semana          fecha_hora fecha_creacion hora_creacion  mes  \\\n",
       "0  miércoles 2019-10-16 09:04:53     2019-10-16      09:04:53   10   \n",
       "1  miércoles 2019-10-16 13:35:39     2019-10-16      13:35:39   10   \n",
       "2  miércoles 2019-10-16 17:35:24     2019-10-16      17:35:24   10   \n",
       "3     jueves 2019-10-17 11:27:11     2019-10-17      11:27:11   10   \n",
       "4    viernes 2019-10-18 18:11:00     2019-10-18      18:11:00   10   \n",
       "\n",
       "     delegacion_inicio   latitud  longitud                  geopoint  \n",
       "0  VENUSTIANO CARRANZA  19.44961 -99.11384  19.44961002,-99.11383992  \n",
       "1           IZTAPALAPA  19.36409 -99.06687     19.36409004,-99.06687  \n",
       "2           CUAUHTEMOC  19.42287 -99.12929  19.42287003,-99.12929004  \n",
       "3           CUAUHTEMOC  19.43451 -99.14268     19.43451,-99.14267988  \n",
       "4        BENITO JUAREZ  19.38966 -99.18504     19.38966003,-99.18504  "
      ]
     },
     "execution_count": 29,
     "metadata": {},
     "output_type": "execute_result"
    }
   ],
   "source": [
    "incidentes.head()"
   ]
  },
  {
   "cell_type": "code",
   "execution_count": 30,
   "metadata": {},
   "outputs": [],
   "source": [
    "incidentes['dia_semana'] = incidentes['dia_semana'].str.replace('á', 'a').str.replace('é', 'e')"
   ]
  },
  {
   "cell_type": "code",
   "execution_count": 31,
   "metadata": {},
   "outputs": [],
   "source": [
    "incidentes['hora'] = incidentes['fecha_hora'].dt.hour\n",
    "incidentes['año'] = incidentes['fecha_hora'].dt.year\n",
    "incidentes['mes'] = incidentes['fecha_hora'].dt.month"
   ]
  },
  {
   "cell_type": "code",
   "execution_count": 32,
   "metadata": {},
   "outputs": [
    {
     "data": {
      "text/plain": [
       "{'enero': 1,\n",
       " 'febrero': 2,\n",
       " 'marzo': 3,\n",
       " 'abril': 4,\n",
       " 'mayo': 5,\n",
       " 'junio': 6,\n",
       " 'julio': 7,\n",
       " 'agosto': 8,\n",
       " 'septiembre': 9,\n",
       " 'octubre': 10,\n",
       " 'noviembre': 11,\n",
       " 'diciembre': 12}"
      ]
     },
     "execution_count": 32,
     "metadata": {},
     "output_type": "execute_result"
    }
   ],
   "source": [
    "dict_meses"
   ]
  },
  {
   "cell_type": "code",
   "execution_count": 33,
   "metadata": {},
   "outputs": [],
   "source": [
    "incidentes['mes'] = incidentes['mes'].map(dict_meses_inverso)"
   ]
  },
  {
   "cell_type": "code",
   "execution_count": 34,
   "metadata": {},
   "outputs": [],
   "source": [
    "incidentes_final = incidentes"
   ]
  },
  {
   "cell_type": "code",
   "execution_count": 35,
   "metadata": {},
   "outputs": [],
   "source": [
    "incidentes_final.to_csv('Data/incidentes_final.csv', index=False)"
   ]
  },
  {
   "cell_type": "markdown",
   "metadata": {},
   "source": [
    "## Estudio 2018 Ciclismo"
   ]
  },
  {
   "cell_type": "code",
   "execution_count": 36,
   "metadata": {},
   "outputs": [],
   "source": [
    "pd.set_option('display.max_columns', 500)"
   ]
  },
  {
   "cell_type": "code",
   "execution_count": 37,
   "metadata": {},
   "outputs": [],
   "source": [
    "columnas = ['CALLE_LEV', 'F1', 'P1', 'P3', 'P6', 'P15', 'P18', 'P19', 'P20', 'P21_NIVEL', 'P23_1']\n",
    "nombres = ['calle_lev', 'edad', 'origen', 'destino', 'motivo_viaje', 'motivo_dejar_bici', 'robado_bici', 'robo_forma', 'sexo', 'educacion', 'ingreso_mensual']"
   ]
  },
  {
   "cell_type": "code",
   "execution_count": 38,
   "metadata": {},
   "outputs": [],
   "source": [
    "estudio1 = estudio[columnas]"
   ]
  },
  {
   "cell_type": "code",
   "execution_count": 39,
   "metadata": {},
   "outputs": [],
   "source": [
    "ch_columnas = estudio1.columns.tolist()\n",
    "res = {ch_columnas[i]: nombres[i] for i in range(len(ch_columnas))}"
   ]
  },
  {
   "cell_type": "code",
   "execution_count": 40,
   "metadata": {
    "scrolled": true
   },
   "outputs": [],
   "source": [
    "estudio1 = estudio1.rename(columns=res)"
   ]
  },
  {
   "cell_type": "code",
   "execution_count": 41,
   "metadata": {},
   "outputs": [],
   "source": [
    "dict_sexo = {1: 'Hombre', 2:'Mujer'}\n",
    "dict_robado_bici = {1:'Sí', 2:'No', 8:'No sabe', 9:'No contestó'}\n",
    "dict_robo_forma = {1:'Estacionada', 2:'En movimiento', 8:'No sabe', 9:'No contestó'}\n",
    "dict_motivo_dejar_bici = {1:'Lesión o incapacidad',\n",
    "                         2:'Fala mecánica de bici',\n",
    "                         3: 'Cambio de trabajo',\n",
    "                         4: 'Llevar prisa',\n",
    "                         5: 'Recorrido muy largo',\n",
    "                         6: 'Falta de infraestructura',\n",
    "                         7: 'Clima',\n",
    "                         8: 'Inseguridad',\n",
    "                         9: 'No haya bici disponible',\n",
    "                         10: 'Ningún motivo',\n",
    "                         11: 'No sé',\n",
    "                         12: 'No contestó'}"
   ]
  },
  {
   "cell_type": "code",
   "execution_count": 42,
   "metadata": {},
   "outputs": [],
   "source": [
    "estudio1['sexo'] = estudio1['sexo'].map(dict_sexo)\n",
    "estudio1['robado_bici'] = estudio1['robado_bici'].map(dict_robado_bici)\n",
    "estudio1['robo_forma'] = estudio1['robo_forma'].map(dict_robo_forma)\n",
    "estudio1['motivo_dejar_bici'] = estudio1['motivo_dejar_bici'].map(dict_motivo_dejar_bici)"
   ]
  },
  {
   "cell_type": "code",
   "execution_count": 43,
   "metadata": {},
   "outputs": [
    {
     "data": {
      "text/html": [
       "<div>\n",
       "<style scoped>\n",
       "    .dataframe tbody tr th:only-of-type {\n",
       "        vertical-align: middle;\n",
       "    }\n",
       "\n",
       "    .dataframe tbody tr th {\n",
       "        vertical-align: top;\n",
       "    }\n",
       "\n",
       "    .dataframe thead th {\n",
       "        text-align: right;\n",
       "    }\n",
       "</style>\n",
       "<table border=\"1\" class=\"dataframe\">\n",
       "  <thead>\n",
       "    <tr style=\"text-align: right;\">\n",
       "      <th></th>\n",
       "      <th>calle_lev</th>\n",
       "      <th>edad</th>\n",
       "      <th>origen</th>\n",
       "      <th>destino</th>\n",
       "      <th>motivo_viaje</th>\n",
       "      <th>motivo_dejar_bici</th>\n",
       "      <th>robado_bici</th>\n",
       "      <th>robo_forma</th>\n",
       "      <th>sexo</th>\n",
       "      <th>educacion</th>\n",
       "      <th>ingreso_mensual</th>\n",
       "    </tr>\n",
       "  </thead>\n",
       "  <tbody>\n",
       "    <tr>\n",
       "      <th>0</th>\n",
       "      <td>CAMINO VIEJO A MIXCOAC</td>\n",
       "      <td>48</td>\n",
       "      <td>2</td>\n",
       "      <td>1</td>\n",
       "      <td>2</td>\n",
       "      <td>Cambio de trabajo</td>\n",
       "      <td>Sí</td>\n",
       "      <td>Estacionada</td>\n",
       "      <td>Hombre</td>\n",
       "      <td>4</td>\n",
       "      <td>3</td>\n",
       "    </tr>\n",
       "    <tr>\n",
       "      <th>1</th>\n",
       "      <td>VASCO DE QUIROGA</td>\n",
       "      <td>35</td>\n",
       "      <td>1</td>\n",
       "      <td>3</td>\n",
       "      <td>9</td>\n",
       "      <td>Ningún motivo</td>\n",
       "      <td>No</td>\n",
       "      <td>NaN</td>\n",
       "      <td>Hombre</td>\n",
       "      <td>9</td>\n",
       "      <td>6</td>\n",
       "    </tr>\n",
       "    <tr>\n",
       "      <th>2</th>\n",
       "      <td>VASCO DE QUIROGA</td>\n",
       "      <td>43</td>\n",
       "      <td>2</td>\n",
       "      <td>2</td>\n",
       "      <td>1</td>\n",
       "      <td>Ningún motivo</td>\n",
       "      <td>No</td>\n",
       "      <td>NaN</td>\n",
       "      <td>Hombre</td>\n",
       "      <td>3</td>\n",
       "      <td>4</td>\n",
       "    </tr>\n",
       "    <tr>\n",
       "      <th>3</th>\n",
       "      <td>POSTA</td>\n",
       "      <td>54</td>\n",
       "      <td>1</td>\n",
       "      <td>7</td>\n",
       "      <td>9</td>\n",
       "      <td>Cambio de trabajo</td>\n",
       "      <td>No</td>\n",
       "      <td>NaN</td>\n",
       "      <td>Hombre</td>\n",
       "      <td>4</td>\n",
       "      <td>4</td>\n",
       "    </tr>\n",
       "    <tr>\n",
       "      <th>4</th>\n",
       "      <td>CALZADA DE LOS LEONES</td>\n",
       "      <td>35</td>\n",
       "      <td>1</td>\n",
       "      <td>4</td>\n",
       "      <td>4</td>\n",
       "      <td>Ningún motivo</td>\n",
       "      <td>No</td>\n",
       "      <td>NaN</td>\n",
       "      <td>Hombre</td>\n",
       "      <td>8</td>\n",
       "      <td>5</td>\n",
       "    </tr>\n",
       "  </tbody>\n",
       "</table>\n",
       "</div>"
      ],
      "text/plain": [
       "                calle_lev  edad  origen  destino  motivo_viaje  \\\n",
       "0  CAMINO VIEJO A MIXCOAC    48       2        1             2   \n",
       "1        VASCO DE QUIROGA    35       1        3             9   \n",
       "2        VASCO DE QUIROGA    43       2        2             1   \n",
       "3                   POSTA    54       1        7             9   \n",
       "4   CALZADA DE LOS LEONES    35       1        4             4   \n",
       "\n",
       "   motivo_dejar_bici robado_bici   robo_forma    sexo  educacion  \\\n",
       "0  Cambio de trabajo          Sí  Estacionada  Hombre          4   \n",
       "1      Ningún motivo          No          NaN  Hombre          9   \n",
       "2      Ningún motivo          No          NaN  Hombre          3   \n",
       "3  Cambio de trabajo          No          NaN  Hombre          4   \n",
       "4      Ningún motivo          No          NaN  Hombre          8   \n",
       "\n",
       "   ingreso_mensual  \n",
       "0                3  \n",
       "1                6  \n",
       "2                4  \n",
       "3                4  \n",
       "4                5  "
      ]
     },
     "execution_count": 43,
     "metadata": {},
     "output_type": "execute_result"
    }
   ],
   "source": [
    "estudio1.head() "
   ]
  },
  {
   "cell_type": "code",
   "execution_count": 44,
   "metadata": {},
   "outputs": [],
   "source": [
    "estudio_final = estudio1"
   ]
  },
  {
   "cell_type": "code",
   "execution_count": 45,
   "metadata": {},
   "outputs": [],
   "source": [
    "estudio_final.to_csv('estudio_final.csv', index=False)"
   ]
  },
  {
   "cell_type": "markdown",
   "metadata": {},
   "source": [
    "## Motivo de que dejarían bici"
   ]
  },
  {
   "cell_type": "code",
   "execution_count": 46,
   "metadata": {},
   "outputs": [],
   "source": [
    "a = pd.Series(estudio_final['motivo_dejar_bici'].value_counts())"
   ]
  },
  {
   "cell_type": "code",
   "execution_count": 47,
   "metadata": {},
   "outputs": [],
   "source": [
    "a.to_csv('Data/motivo_dejar_final.csv')"
   ]
  }
 ],
 "metadata": {
  "kernelspec": {
   "display_name": "Python 3",
   "language": "python",
   "name": "python3"
  },
  "language_info": {
   "codemirror_mode": {
    "name": "ipython",
    "version": 3
   },
   "file_extension": ".py",
   "mimetype": "text/x-python",
   "name": "python",
   "nbconvert_exporter": "python",
   "pygments_lexer": "ipython3",
   "version": "3.7.9"
  }
 },
 "nbformat": 4,
 "nbformat_minor": 4
}
