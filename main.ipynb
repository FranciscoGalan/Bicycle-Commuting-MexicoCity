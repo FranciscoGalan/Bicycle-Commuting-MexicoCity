{
 "cells": [
  {
   "cell_type": "markdown",
   "metadata": {},
   "source": [
    "# Bicycle Commuting Data"
   ]
  },
  {
   "cell_type": "code",
   "execution_count": 217,
   "metadata": {},
   "outputs": [],
   "source": [
    "import pandas as pd\n",
    "import numpy as np\n",
    "import re\n",
    "import matplotlib.pyplot as plt\n",
    "import seaborn as sns"
   ]
  },
  {
   "cell_type": "markdown",
   "metadata": {},
   "source": [
    "The data used for the analysis was taken from three datasets of Mexico City's government [website](https://datos.cdmx.gob.mx/):\n",
    "\n",
    "| Dataset                         | Location    | Date of download |\n",
    "| ------------------------------- | ------------------------------------------------------------ | ---------------- |\n",
    "| Bicycle counter                 | https://datos.cdmx.gob.mx/dataset/contador-ciclistas         | 11-Dec-2020      |\n",
    "| Road accidents                  | https://datos.cdmx.gob.mx/dataset/incidentes-viales-c5       | 11-Dec-2020      |\n",
    "| Estudio de Conteo ciclista 2018 | https://datos.cdmx.gob.mx/dataset/estudio-de-conteo-ciclista-2018 | 11-Dec-2020      |"
   ]
  },
  {
   "cell_type": "markdown",
   "metadata": {},
   "source": [
    "I have already downloaded them in the /Data directory, so let's import them."
   ]
  },
  {
   "cell_type": "code",
   "execution_count": 218,
   "metadata": {},
   "outputs": [],
   "source": [
    "contador = pd.read_csv('Data/contador-ciclistas.csv')\n",
    "incidentes = pd.read_csv('Data/incidentes-viales-c5.csv')\n",
    "estudio = pd.read_csv('Data/estudio-de-conteo-ciclista-2018.csv')"
   ]
  },
  {
   "cell_type": "markdown",
   "metadata": {},
   "source": [
    "## 1. Bicycle counter"
   ]
  },
  {
   "cell_type": "markdown",
   "metadata": {},
   "source": [
    "### Data exploration"
   ]
  },
  {
   "cell_type": "code",
   "execution_count": 219,
   "metadata": {},
   "outputs": [
    {
     "data": {
      "text/html": [
       "<div>\n",
       "<style scoped>\n",
       "    .dataframe tbody tr th:only-of-type {\n",
       "        vertical-align: middle;\n",
       "    }\n",
       "\n",
       "    .dataframe tbody tr th {\n",
       "        vertical-align: top;\n",
       "    }\n",
       "\n",
       "    .dataframe thead th {\n",
       "        text-align: right;\n",
       "    }\n",
       "</style>\n",
       "<table border=\"1\" class=\"dataframe\">\n",
       "  <thead>\n",
       "    <tr style=\"text-align: right;\">\n",
       "      <th></th>\n",
       "      <th>Día de la semana</th>\n",
       "      <th>Día</th>\n",
       "      <th>Mes</th>\n",
       "      <th>Año</th>\n",
       "      <th>Contador Ruta Reforma222</th>\n",
       "      <th>Contador Ruta Revolución</th>\n",
       "      <th>Contador Ruta Patriotismo</th>\n",
       "    </tr>\n",
       "  </thead>\n",
       "  <tbody>\n",
       "    <tr>\n",
       "      <th>0</th>\n",
       "      <td>jueves</td>\n",
       "      <td>5</td>\n",
       "      <td>diciembre</td>\n",
       "      <td>2013</td>\n",
       "      <td>2516.0</td>\n",
       "      <td>NaN</td>\n",
       "      <td>NaN</td>\n",
       "    </tr>\n",
       "    <tr>\n",
       "      <th>1</th>\n",
       "      <td>lunes</td>\n",
       "      <td>9</td>\n",
       "      <td>diciembre</td>\n",
       "      <td>2013</td>\n",
       "      <td>2132.0</td>\n",
       "      <td>NaN</td>\n",
       "      <td>NaN</td>\n",
       "    </tr>\n",
       "    <tr>\n",
       "      <th>2</th>\n",
       "      <td>viernes</td>\n",
       "      <td>22</td>\n",
       "      <td>junio</td>\n",
       "      <td>2018</td>\n",
       "      <td>2913.0</td>\n",
       "      <td>980.0</td>\n",
       "      <td>1163.0</td>\n",
       "    </tr>\n",
       "    <tr>\n",
       "      <th>3</th>\n",
       "      <td>martes</td>\n",
       "      <td>10</td>\n",
       "      <td>julio</td>\n",
       "      <td>2018</td>\n",
       "      <td>2531.0</td>\n",
       "      <td>877.0</td>\n",
       "      <td>1013.0</td>\n",
       "    </tr>\n",
       "    <tr>\n",
       "      <th>4</th>\n",
       "      <td>sábado</td>\n",
       "      <td>7</td>\n",
       "      <td>julio</td>\n",
       "      <td>2018</td>\n",
       "      <td>1534.0</td>\n",
       "      <td>616.0</td>\n",
       "      <td>584.0</td>\n",
       "    </tr>\n",
       "  </tbody>\n",
       "</table>\n",
       "</div>"
      ],
      "text/plain": [
       "  Día de la semana  Día        Mes   Año  Contador Ruta Reforma222  \\\n",
       "0           jueves    5  diciembre  2013                    2516.0   \n",
       "1            lunes    9  diciembre  2013                    2132.0   \n",
       "2          viernes   22      junio  2018                    2913.0   \n",
       "3           martes   10      julio  2018                    2531.0   \n",
       "4           sábado    7      julio  2018                    1534.0   \n",
       "\n",
       "   Contador Ruta Revolución  Contador Ruta Patriotismo  \n",
       "0                       NaN                        NaN  \n",
       "1                       NaN                        NaN  \n",
       "2                     980.0                     1163.0  \n",
       "3                     877.0                     1013.0  \n",
       "4                     616.0                      584.0  "
      ]
     },
     "execution_count": 219,
     "metadata": {},
     "output_type": "execute_result"
    }
   ],
   "source": [
    "contador.head()"
   ]
  },
  {
   "cell_type": "code",
   "execution_count": 220,
   "metadata": {},
   "outputs": [
    {
     "name": "stdout",
     "output_type": "stream",
     "text": [
      "<class 'pandas.core.frame.DataFrame'>\n",
      "RangeIndex: 2374 entries, 0 to 2373\n",
      "Data columns (total 7 columns):\n",
      " #   Column                     Non-Null Count  Dtype  \n",
      "---  ------                     --------------  -----  \n",
      " 0   Día de la semana           2374 non-null   object \n",
      " 1   Día                        2374 non-null   int64  \n",
      " 2   Mes                        2374 non-null   object \n",
      " 3   Año                        2374 non-null   int64  \n",
      " 4   Contador Ruta Reforma222   2150 non-null   float64\n",
      " 5   Contador Ruta Revolución   1382 non-null   float64\n",
      " 6   Contador Ruta Patriotismo  1386 non-null   float64\n",
      "dtypes: float64(3), int64(2), object(2)\n",
      "memory usage: 130.0+ KB\n"
     ]
    }
   ],
   "source": [
    "contador.info()"
   ]
  },
  {
   "cell_type": "code",
   "execution_count": 221,
   "metadata": {},
   "outputs": [
    {
     "data": {
      "text/plain": [
       "Día de la semana               0\n",
       "Día                            0\n",
       "Mes                            0\n",
       "Año                            0\n",
       "Contador Ruta Reforma222     224\n",
       "Contador Ruta Revolución     992\n",
       "Contador Ruta Patriotismo    988\n",
       "dtype: int64"
      ]
     },
     "execution_count": 221,
     "metadata": {},
     "output_type": "execute_result"
    }
   ],
   "source": [
    "contador.isnull().sum()"
   ]
  },
  {
   "cell_type": "markdown",
   "metadata": {},
   "source": [
    "It seems that the counters didn't start recolecting data at the same time. We should see when did each start by  visualizing where exactly are the null values. However, the dataset is not ordered by date, so let's transform the dates to a datetime format."
   ]
  },
  {
   "cell_type": "markdown",
   "metadata": {},
   "source": [
    "### Data cleaning"
   ]
  },
  {
   "cell_type": "code",
   "execution_count": 222,
   "metadata": {},
   "outputs": [
    {
     "data": {
      "text/plain": [
       "Index(['Día de la semana', 'Día', 'Mes', 'Año', 'Contador Ruta Reforma222',\n",
       "       'Contador Ruta Revolución', 'Contador Ruta Patriotismo'],\n",
       "      dtype='object')"
      ]
     },
     "execution_count": 222,
     "metadata": {},
     "output_type": "execute_result"
    }
   ],
   "source": [
    "# Change column names\n",
    "contador.columns"
   ]
  },
  {
   "cell_type": "code",
   "execution_count": 223,
   "metadata": {},
   "outputs": [],
   "source": [
    "contador.columns = ['Día de la semana', 'Día', 'Mes', 'Año', 'Reforma', 'Revolución', 'Patriotismo']"
   ]
  },
  {
   "cell_type": "code",
   "execution_count": 224,
   "metadata": {},
   "outputs": [],
   "source": [
    "# Transform months to categories to order them.\n",
    "meses = ['enero', 'febrero', 'marzo', 'abril', 'mayo', 'junio', 'julio', 'agosto', 'septiembre', 'octubre', 'noviembre', 'diciembre']\n",
    "contador['Mes'] = pd.Categorical(contador['Mes'], meses)\n",
    "\n",
    "# Order values in descending order.\n",
    "contador = contador.sort_values(['Año', 'Mes', 'Día'])\n",
    "\n",
    "# Change months back to object type\n",
    "contador['Mes'] = contador['Mes'].astype('object')"
   ]
  },
  {
   "cell_type": "code",
   "execution_count": 225,
   "metadata": {},
   "outputs": [],
   "source": [
    "# Label-encode months\n",
    "dict_meses = {}\n",
    "number = 0\n",
    "for mes in meses: \n",
    "    number += 1\n",
    "    dict_meses[mes] = number\n",
    "    \n",
    "contador['Mes'] = contador['Mes'].map(dict_meses)"
   ]
  },
  {
   "cell_type": "code",
   "execution_count": 226,
   "metadata": {},
   "outputs": [],
   "source": [
    "# Create new column with complete date\n",
    "contador.insert(4, 'Fecha', pd.to_datetime(contador.Año*10000+contador.Mes*100+contador.Día, format='%Y%m%d'))"
   ]
  },
  {
   "cell_type": "code",
   "execution_count": 227,
   "metadata": {},
   "outputs": [],
   "source": [
    "# Reset indexes\n",
    "contador = contador.reset_index(drop=True)"
   ]
  },
  {
   "cell_type": "code",
   "execution_count": 228,
   "metadata": {},
   "outputs": [
    {
     "data": {
      "text/html": [
       "<div>\n",
       "<style scoped>\n",
       "    .dataframe tbody tr th:only-of-type {\n",
       "        vertical-align: middle;\n",
       "    }\n",
       "\n",
       "    .dataframe tbody tr th {\n",
       "        vertical-align: top;\n",
       "    }\n",
       "\n",
       "    .dataframe thead th {\n",
       "        text-align: right;\n",
       "    }\n",
       "</style>\n",
       "<table border=\"1\" class=\"dataframe\">\n",
       "  <thead>\n",
       "    <tr style=\"text-align: right;\">\n",
       "      <th></th>\n",
       "      <th>Día de la semana</th>\n",
       "      <th>Día</th>\n",
       "      <th>Mes</th>\n",
       "      <th>Año</th>\n",
       "      <th>Fecha</th>\n",
       "      <th>Reforma</th>\n",
       "      <th>Revolución</th>\n",
       "      <th>Patriotismo</th>\n",
       "    </tr>\n",
       "  </thead>\n",
       "  <tbody>\n",
       "    <tr>\n",
       "      <th>0</th>\n",
       "      <td>sábado</td>\n",
       "      <td>16</td>\n",
       "      <td>11</td>\n",
       "      <td>2013</td>\n",
       "      <td>2013-11-16</td>\n",
       "      <td>613.0</td>\n",
       "      <td>NaN</td>\n",
       "      <td>NaN</td>\n",
       "    </tr>\n",
       "    <tr>\n",
       "      <th>1</th>\n",
       "      <td>domingo</td>\n",
       "      <td>17</td>\n",
       "      <td>11</td>\n",
       "      <td>2013</td>\n",
       "      <td>2013-11-17</td>\n",
       "      <td>1084.0</td>\n",
       "      <td>NaN</td>\n",
       "      <td>NaN</td>\n",
       "    </tr>\n",
       "    <tr>\n",
       "      <th>2</th>\n",
       "      <td>lunes</td>\n",
       "      <td>18</td>\n",
       "      <td>11</td>\n",
       "      <td>2013</td>\n",
       "      <td>2013-11-18</td>\n",
       "      <td>1073.0</td>\n",
       "      <td>NaN</td>\n",
       "      <td>NaN</td>\n",
       "    </tr>\n",
       "    <tr>\n",
       "      <th>3</th>\n",
       "      <td>martes</td>\n",
       "      <td>19</td>\n",
       "      <td>11</td>\n",
       "      <td>2013</td>\n",
       "      <td>2013-11-19</td>\n",
       "      <td>1344.0</td>\n",
       "      <td>NaN</td>\n",
       "      <td>NaN</td>\n",
       "    </tr>\n",
       "  </tbody>\n",
       "</table>\n",
       "</div>"
      ],
      "text/plain": [
       "  Día de la semana  Día  Mes   Año      Fecha  Reforma  Revolución  \\\n",
       "0           sábado   16   11  2013 2013-11-16    613.0         NaN   \n",
       "1          domingo   17   11  2013 2013-11-17   1084.0         NaN   \n",
       "2            lunes   18   11  2013 2013-11-18   1073.0         NaN   \n",
       "3           martes   19   11  2013 2013-11-19   1344.0         NaN   \n",
       "\n",
       "   Patriotismo  \n",
       "0          NaN  \n",
       "1          NaN  \n",
       "2          NaN  \n",
       "3          NaN  "
      ]
     },
     "execution_count": 228,
     "metadata": {},
     "output_type": "execute_result"
    }
   ],
   "source": [
    "contador.head(4)"
   ]
  },
  {
   "cell_type": "code",
   "execution_count": 229,
   "metadata": {
    "scrolled": true
   },
   "outputs": [],
   "source": [
    "# Change months back to string format\n",
    "dict_meses_inverso = {}\n",
    "for mes, numero in dict_meses.items():\n",
    "    dict_meses_inverso[numero] = mes\n",
    "    \n",
    "contador['Mes'] = contador['Mes'].map(dict_meses_inverso)"
   ]
  },
  {
   "cell_type": "code",
   "execution_count": 230,
   "metadata": {},
   "outputs": [],
   "source": [
    "# Replace special characters\n",
    "contador['Día de la semana'] = contador['Día de la semana'].str.replace('á', 'a').str.replace('é', 'e')"
   ]
  },
  {
   "cell_type": "markdown",
   "metadata": {},
   "source": [
    "Now that we have a clean and ordered dataset, we can visualize the distribution of null values."
   ]
  },
  {
   "cell_type": "code",
   "execution_count": 231,
   "metadata": {},
   "outputs": [],
   "source": [
    "# Create dictionary with column types.\n",
    "def recognize_column_type(dtf, col, max_cat=20):\n",
    "    \"\"\"Returns the type of a column\"\"\"\n",
    "    \n",
    "    if (dtf[col].dtype == \"O\") | (dtf[col].nunique() < max_cat):\n",
    "        return \"cat\"\n",
    "    else:\n",
    "        return \"num\"\n",
    "\n",
    "dic_cols = {col:recognize_column_type(contador, col, max_cat=20) for col in contador.columns}"
   ]
  },
  {
   "cell_type": "code",
   "execution_count": 232,
   "metadata": {},
   "outputs": [
    {
     "data": {
      "image/png": "[encoded data removed]",
      "text/plain": [
       "<Figure size 432x288 with 1 Axes>"
      ]
     },
     "metadata": {
      "needs_background": "light"
     },
     "output_type": "display_data"
    },
    {
     "name": "stdout",
     "output_type": "stream",
     "text": [
      "\u001b[1;37;40m Categorical  \u001b[1;30;41m Numeric  \u001b[1;30;47m NaN \n"
     ]
    }
   ],
   "source": [
    "# Visualize data\n",
    "heatmap = contador.isnull()\n",
    "for k,v in dic_cols.items():\n",
    "    if v == \"num\":\n",
    "        heatmap[k] = heatmap[k].apply(lambda x: 0.5 if x is False else 1)\n",
    "    else:\n",
    "        heatmap[k] = heatmap[k].apply(lambda x: 0 if x is False else 1)\n",
    "        \n",
    "sns.heatmap(heatmap, cbar=False).set_title('Null values distribution')\n",
    "plt.show()\n",
    "print(\"\\033[1;37;40m Categorical \", \"\\033[1;30;41m Numeric \", \"\\033[1;30;47m NaN \")"
   ]
  },
  {
   "cell_type": "code",
   "execution_count": 233,
   "metadata": {},
   "outputs": [
    {
     "data": {
      "text/html": [
       "<div>\n",
       "<style scoped>\n",
       "    .dataframe tbody tr th:only-of-type {\n",
       "        vertical-align: middle;\n",
       "    }\n",
       "\n",
       "    .dataframe tbody tr th {\n",
       "        vertical-align: top;\n",
       "    }\n",
       "\n",
       "    .dataframe thead th {\n",
       "        text-align: right;\n",
       "    }\n",
       "</style>\n",
       "<table border=\"1\" class=\"dataframe\">\n",
       "  <thead>\n",
       "    <tr style=\"text-align: right;\">\n",
       "      <th></th>\n",
       "      <th>Día de la semana</th>\n",
       "      <th>Día</th>\n",
       "      <th>Mes</th>\n",
       "      <th>Año</th>\n",
       "      <th>Fecha</th>\n",
       "      <th>Reforma</th>\n",
       "      <th>Revolución</th>\n",
       "      <th>Patriotismo</th>\n",
       "    </tr>\n",
       "  </thead>\n",
       "  <tbody>\n",
       "    <tr>\n",
       "      <th>0</th>\n",
       "      <td>sabado</td>\n",
       "      <td>16</td>\n",
       "      <td>noviembre</td>\n",
       "      <td>2013</td>\n",
       "      <td>2013-11-16</td>\n",
       "      <td>613.0</td>\n",
       "      <td>NaN</td>\n",
       "      <td>NaN</td>\n",
       "    </tr>\n",
       "  </tbody>\n",
       "</table>\n",
       "</div>"
      ],
      "text/plain": [
       "  Día de la semana  Día        Mes   Año      Fecha  Reforma  Revolución  \\\n",
       "0           sabado   16  noviembre  2013 2013-11-16    613.0         NaN   \n",
       "\n",
       "   Patriotismo  \n",
       "0          NaN  "
      ]
     },
     "execution_count": 233,
     "metadata": {},
     "output_type": "execute_result"
    }
   ],
   "source": [
    "contador.head(1)"
   ]
  },
  {
   "cell_type": "code",
   "execution_count": 234,
   "metadata": {
    "scrolled": true
   },
   "outputs": [
    {
     "data": {
      "text/html": [
       "<div>\n",
       "<style scoped>\n",
       "    .dataframe tbody tr th:only-of-type {\n",
       "        vertical-align: middle;\n",
       "    }\n",
       "\n",
       "    .dataframe tbody tr th {\n",
       "        vertical-align: top;\n",
       "    }\n",
       "\n",
       "    .dataframe thead th {\n",
       "        text-align: right;\n",
       "    }\n",
       "</style>\n",
       "<table border=\"1\" class=\"dataframe\">\n",
       "  <thead>\n",
       "    <tr style=\"text-align: right;\">\n",
       "      <th></th>\n",
       "      <th>Día de la semana</th>\n",
       "      <th>Día</th>\n",
       "      <th>Mes</th>\n",
       "      <th>Año</th>\n",
       "      <th>Fecha</th>\n",
       "      <th>Reforma</th>\n",
       "      <th>Revolución</th>\n",
       "      <th>Patriotismo</th>\n",
       "    </tr>\n",
       "  </thead>\n",
       "  <tbody>\n",
       "    <tr>\n",
       "      <th>941</th>\n",
       "      <td>martes</td>\n",
       "      <td>14</td>\n",
       "      <td>junio</td>\n",
       "      <td>2016</td>\n",
       "      <td>2016-06-14</td>\n",
       "      <td>2884.0</td>\n",
       "      <td>333.0</td>\n",
       "      <td>256.0</td>\n",
       "    </tr>\n",
       "    <tr>\n",
       "      <th>942</th>\n",
       "      <td>miercoles</td>\n",
       "      <td>15</td>\n",
       "      <td>junio</td>\n",
       "      <td>2016</td>\n",
       "      <td>2016-06-15</td>\n",
       "      <td>2909.0</td>\n",
       "      <td>864.0</td>\n",
       "      <td>993.0</td>\n",
       "    </tr>\n",
       "    <tr>\n",
       "      <th>943</th>\n",
       "      <td>jueves</td>\n",
       "      <td>16</td>\n",
       "      <td>junio</td>\n",
       "      <td>2016</td>\n",
       "      <td>2016-06-16</td>\n",
       "      <td>283.0</td>\n",
       "      <td>855.0</td>\n",
       "      <td>901.0</td>\n",
       "    </tr>\n",
       "    <tr>\n",
       "      <th>944</th>\n",
       "      <td>viernes</td>\n",
       "      <td>17</td>\n",
       "      <td>junio</td>\n",
       "      <td>2016</td>\n",
       "      <td>2016-06-17</td>\n",
       "      <td>2695.0</td>\n",
       "      <td>889.0</td>\n",
       "      <td>856.0</td>\n",
       "    </tr>\n",
       "  </tbody>\n",
       "</table>\n",
       "</div>"
      ],
      "text/plain": [
       "    Día de la semana  Día    Mes   Año      Fecha  Reforma  Revolución  \\\n",
       "941           martes   14  junio  2016 2016-06-14   2884.0       333.0   \n",
       "942        miercoles   15  junio  2016 2016-06-15   2909.0       864.0   \n",
       "943           jueves   16  junio  2016 2016-06-16    283.0       855.0   \n",
       "944          viernes   17  junio  2016 2016-06-17   2695.0       889.0   \n",
       "\n",
       "     Patriotismo  \n",
       "941        256.0  \n",
       "942        993.0  \n",
       "943        901.0  \n",
       "944        856.0  "
      ]
     },
     "execution_count": 234,
     "metadata": {},
     "output_type": "execute_result"
    }
   ],
   "source": [
    "contador[contador['Revolución'].notnull()].head(4)"
   ]
  },
  {
   "cell_type": "markdown",
   "metadata": {},
   "source": [
    "The first counter that the government installed seems to be Reforma, in **16 Nov 2013**. Then the counters for avenue Revolución and Patriotismo were installed in **14 June 2016**."
   ]
  },
  {
   "cell_type": "markdown",
   "metadata": {},
   "source": [
    "To handle the **missing values**, we can follow two steps:\n",
    "- Replace Revolución and Patriotismo null values up to 14 June 2016 with a cero, since cero bicycles were, in a way, counted by the counters.\n",
    "- Fill the rest of the nulls with a forward fill. This way, we can get a good approximation of the cyclists in a day by using the last day of which we have available data.  \n",
    "\n",
    "Using the average or the mode would be misleading, since the number of cyclists over time will probably fluctuate. Also, droping the nulls would alter the total cyclists in a given year since the nulls are clustered in certain areas."
   ]
  },
  {
   "cell_type": "code",
   "execution_count": 235,
   "metadata": {},
   "outputs": [],
   "source": [
    "# Fill missing values up to the installation of the counters.\n",
    "contador.loc[0:940, ['Revolución', 'Patriotismo']] = contador.loc[0:940, ['Revolución', 'Patriotismo']].fillna(0)"
   ]
  },
  {
   "cell_type": "code",
   "execution_count": 236,
   "metadata": {},
   "outputs": [],
   "source": [
    "# Fill the rest of the missing values with a forward fill\n",
    "counter_columns = ['Reforma', 'Revolución', 'Patriotismo']\n",
    "for counter in counter_columns:\n",
    "    contador[counter] = contador[counter].fillna(method='ffill')"
   ]
  },
  {
   "cell_type": "code",
   "execution_count": 237,
   "metadata": {},
   "outputs": [
    {
     "data": {
      "text/plain": [
       "Día de la semana    0\n",
       "Día                 0\n",
       "Mes                 0\n",
       "Año                 0\n",
       "Fecha               0\n",
       "Reforma             0\n",
       "Revolución          0\n",
       "Patriotismo         0\n",
       "dtype: int64"
      ]
     },
     "execution_count": 237,
     "metadata": {},
     "output_type": "execute_result"
    }
   ],
   "source": [
    "contador.isnull().sum()"
   ]
  },
  {
   "cell_type": "code",
   "execution_count": 238,
   "metadata": {},
   "outputs": [],
   "source": [
    "# Create column with total cyclists of a given day\n",
    "contador['total'] = contador['Patriotismo'] + contador['Revolución'] + contador['Reforma']\n",
    "contador['total'] = contador['total'].astype('int64')"
   ]
  },
  {
   "cell_type": "code",
   "execution_count": 239,
   "metadata": {},
   "outputs": [],
   "source": [
    "# Change column type to integer.\n",
    "for counter in counter_columns:\n",
    "    contador[counter] = contador[counter].astype('int64')"
   ]
  },
  {
   "cell_type": "code",
   "execution_count": 240,
   "metadata": {},
   "outputs": [
    {
     "data": {
      "text/html": [
       "<div>\n",
       "<style scoped>\n",
       "    .dataframe tbody tr th:only-of-type {\n",
       "        vertical-align: middle;\n",
       "    }\n",
       "\n",
       "    .dataframe tbody tr th {\n",
       "        vertical-align: top;\n",
       "    }\n",
       "\n",
       "    .dataframe thead th {\n",
       "        text-align: right;\n",
       "    }\n",
       "</style>\n",
       "<table border=\"1\" class=\"dataframe\">\n",
       "  <thead>\n",
       "    <tr style=\"text-align: right;\">\n",
       "      <th></th>\n",
       "      <th>Día de la semana</th>\n",
       "      <th>Día</th>\n",
       "      <th>Mes</th>\n",
       "      <th>Año</th>\n",
       "      <th>Fecha</th>\n",
       "      <th>Reforma</th>\n",
       "      <th>Revolución</th>\n",
       "      <th>Patriotismo</th>\n",
       "      <th>total</th>\n",
       "    </tr>\n",
       "  </thead>\n",
       "  <tbody>\n",
       "    <tr>\n",
       "      <th>0</th>\n",
       "      <td>sabado</td>\n",
       "      <td>16</td>\n",
       "      <td>noviembre</td>\n",
       "      <td>2013</td>\n",
       "      <td>2013-11-16</td>\n",
       "      <td>613</td>\n",
       "      <td>0</td>\n",
       "      <td>0</td>\n",
       "      <td>613</td>\n",
       "    </tr>\n",
       "    <tr>\n",
       "      <th>1</th>\n",
       "      <td>domingo</td>\n",
       "      <td>17</td>\n",
       "      <td>noviembre</td>\n",
       "      <td>2013</td>\n",
       "      <td>2013-11-17</td>\n",
       "      <td>1084</td>\n",
       "      <td>0</td>\n",
       "      <td>0</td>\n",
       "      <td>1084</td>\n",
       "    </tr>\n",
       "    <tr>\n",
       "      <th>2</th>\n",
       "      <td>lunes</td>\n",
       "      <td>18</td>\n",
       "      <td>noviembre</td>\n",
       "      <td>2013</td>\n",
       "      <td>2013-11-18</td>\n",
       "      <td>1073</td>\n",
       "      <td>0</td>\n",
       "      <td>0</td>\n",
       "      <td>1073</td>\n",
       "    </tr>\n",
       "    <tr>\n",
       "      <th>3</th>\n",
       "      <td>martes</td>\n",
       "      <td>19</td>\n",
       "      <td>noviembre</td>\n",
       "      <td>2013</td>\n",
       "      <td>2013-11-19</td>\n",
       "      <td>1344</td>\n",
       "      <td>0</td>\n",
       "      <td>0</td>\n",
       "      <td>1344</td>\n",
       "    </tr>\n",
       "    <tr>\n",
       "      <th>4</th>\n",
       "      <td>miercoles</td>\n",
       "      <td>20</td>\n",
       "      <td>noviembre</td>\n",
       "      <td>2013</td>\n",
       "      <td>2013-11-20</td>\n",
       "      <td>2394</td>\n",
       "      <td>0</td>\n",
       "      <td>0</td>\n",
       "      <td>2394</td>\n",
       "    </tr>\n",
       "  </tbody>\n",
       "</table>\n",
       "</div>"
      ],
      "text/plain": [
       "  Día de la semana  Día        Mes   Año      Fecha  Reforma  Revolución  \\\n",
       "0           sabado   16  noviembre  2013 2013-11-16      613           0   \n",
       "1          domingo   17  noviembre  2013 2013-11-17     1084           0   \n",
       "2            lunes   18  noviembre  2013 2013-11-18     1073           0   \n",
       "3           martes   19  noviembre  2013 2013-11-19     1344           0   \n",
       "4        miercoles   20  noviembre  2013 2013-11-20     2394           0   \n",
       "\n",
       "   Patriotismo  total  \n",
       "0            0    613  \n",
       "1            0   1084  \n",
       "2            0   1073  \n",
       "3            0   1344  \n",
       "4            0   2394  "
      ]
     },
     "execution_count": 240,
     "metadata": {},
     "output_type": "execute_result"
    }
   ],
   "source": [
    "contador.head()"
   ]
  },
  {
   "cell_type": "markdown",
   "metadata": {},
   "source": [
    "### Save dataset"
   ]
  },
  {
   "cell_type": "code",
   "execution_count": 241,
   "metadata": {},
   "outputs": [],
   "source": [
    "contador_final = contador.copy()"
   ]
  },
  {
   "cell_type": "code",
   "execution_count": 242,
   "metadata": {},
   "outputs": [
    {
     "name": "stdout",
     "output_type": "stream",
     "text": [
      "<class 'pandas.core.frame.DataFrame'>\n",
      "RangeIndex: 2374 entries, 0 to 2373\n",
      "Data columns (total 9 columns):\n",
      " #   Column            Non-Null Count  Dtype         \n",
      "---  ------            --------------  -----         \n",
      " 0   Día de la semana  2374 non-null   object        \n",
      " 1   Día               2374 non-null   int64         \n",
      " 2   Mes               2374 non-null   object        \n",
      " 3   Año               2374 non-null   int64         \n",
      " 4   Fecha             2374 non-null   datetime64[ns]\n",
      " 5   Reforma           2374 non-null   int64         \n",
      " 6   Revolución        2374 non-null   int64         \n",
      " 7   Patriotismo       2374 non-null   int64         \n",
      " 8   total             2374 non-null   int64         \n",
      "dtypes: datetime64[ns](1), int64(6), object(2)\n",
      "memory usage: 167.0+ KB\n"
     ]
    }
   ],
   "source": [
    "contador_final.info()"
   ]
  },
  {
   "cell_type": "code",
   "execution_count": 243,
   "metadata": {},
   "outputs": [],
   "source": [
    "contador_final.to_csv('Data/contador_final.csv', index=False)"
   ]
  },
  {
   "cell_type": "markdown",
   "metadata": {},
   "source": [
    "# 2. Road accidents"
   ]
  },
  {
   "cell_type": "markdown",
   "metadata": {},
   "source": [
    "### Data exploration"
   ]
  },
  {
   "cell_type": "code",
   "execution_count": 244,
   "metadata": {},
   "outputs": [
    {
     "data": {
      "text/html": [
       "<div>\n",
       "<style scoped>\n",
       "    .dataframe tbody tr th:only-of-type {\n",
       "        vertical-align: middle;\n",
       "    }\n",
       "\n",
       "    .dataframe tbody tr th {\n",
       "        vertical-align: top;\n",
       "    }\n",
       "\n",
       "    .dataframe thead th {\n",
       "        text-align: right;\n",
       "    }\n",
       "</style>\n",
       "<table border=\"1\" class=\"dataframe\">\n",
       "  <thead>\n",
       "    <tr style=\"text-align: right;\">\n",
       "      <th></th>\n",
       "      <th>folio</th>\n",
       "      <th>fecha_creacion</th>\n",
       "      <th>hora_creacion</th>\n",
       "      <th>dia_semana</th>\n",
       "      <th>codigo_cierre</th>\n",
       "      <th>fecha_cierre</th>\n",
       "      <th>año_cierre</th>\n",
       "      <th>mes_cierre</th>\n",
       "      <th>hora_cierre</th>\n",
       "      <th>delegacion_inicio</th>\n",
       "      <th>incidente_c4</th>\n",
       "      <th>latitud</th>\n",
       "      <th>longitud</th>\n",
       "      <th>clas_con_f_alarma</th>\n",
       "      <th>tipo_entrada</th>\n",
       "      <th>delegacion_cierre</th>\n",
       "      <th>geopoint</th>\n",
       "      <th>mes</th>\n",
       "    </tr>\n",
       "  </thead>\n",
       "  <tbody>\n",
       "    <tr>\n",
       "      <th>0</th>\n",
       "      <td>C5/191016/01871</td>\n",
       "      <td>16/10/2019</td>\n",
       "      <td>09:04:53</td>\n",
       "      <td>Miércoles</td>\n",
       "      <td>(A) La unidad de atención a emergencias fue de...</td>\n",
       "      <td>16/10/2019</td>\n",
       "      <td>2019</td>\n",
       "      <td>Octubre</td>\n",
       "      <td>09:23:53</td>\n",
       "      <td>VENUSTIANO CARRANZA</td>\n",
       "      <td>accidente-ciclista</td>\n",
       "      <td>19.44961</td>\n",
       "      <td>-99.11384</td>\n",
       "      <td>URGENCIAS MEDICAS</td>\n",
       "      <td>LLAMADA DEL 911</td>\n",
       "      <td>VENUSTIANO CARRANZA</td>\n",
       "      <td>19.44961002,-99.11383992</td>\n",
       "      <td>10</td>\n",
       "    </tr>\n",
       "    <tr>\n",
       "      <th>1</th>\n",
       "      <td>C5/191016/03921</td>\n",
       "      <td>16/10/2019</td>\n",
       "      <td>13:35:39</td>\n",
       "      <td>Miércoles</td>\n",
       "      <td>(N) La unidad de atención a emergencias fue de...</td>\n",
       "      <td>16/10/2019</td>\n",
       "      <td>2019</td>\n",
       "      <td>Octubre</td>\n",
       "      <td>13:45:34</td>\n",
       "      <td>IZTAPALAPA</td>\n",
       "      <td>accidente-ciclista</td>\n",
       "      <td>19.36409</td>\n",
       "      <td>-99.06687</td>\n",
       "      <td>URGENCIAS MEDICAS</td>\n",
       "      <td>LLAMADA DEL 911</td>\n",
       "      <td>IZTAPALAPA</td>\n",
       "      <td>19.36409004,-99.06687</td>\n",
       "      <td>10</td>\n",
       "    </tr>\n",
       "    <tr>\n",
       "      <th>2</th>\n",
       "      <td>C5/191016/05840</td>\n",
       "      <td>16/10/2019</td>\n",
       "      <td>17:35:24</td>\n",
       "      <td>Miércoles</td>\n",
       "      <td>(D) El incidente reportado se registró en dos ...</td>\n",
       "      <td>16/10/2019</td>\n",
       "      <td>2019</td>\n",
       "      <td>Octubre</td>\n",
       "      <td>17:43:03</td>\n",
       "      <td>CUAUHTEMOC</td>\n",
       "      <td>accidente-ciclista</td>\n",
       "      <td>19.42287</td>\n",
       "      <td>-99.12929</td>\n",
       "      <td>URGENCIAS MEDICAS</td>\n",
       "      <td>LLAMADA DEL 911</td>\n",
       "      <td>CUAUHTEMOC</td>\n",
       "      <td>19.42287003,-99.12929004</td>\n",
       "      <td>10</td>\n",
       "    </tr>\n",
       "    <tr>\n",
       "      <th>3</th>\n",
       "      <td>C5/191017/02907</td>\n",
       "      <td>17/10/2019</td>\n",
       "      <td>11:27:11</td>\n",
       "      <td>Jueves</td>\n",
       "      <td>(A) La unidad de atención a emergencias fue de...</td>\n",
       "      <td>17/10/2019</td>\n",
       "      <td>2019</td>\n",
       "      <td>Octubre</td>\n",
       "      <td>12:16:53</td>\n",
       "      <td>CUAUHTEMOC</td>\n",
       "      <td>accidente-ciclista</td>\n",
       "      <td>19.43451</td>\n",
       "      <td>-99.14268</td>\n",
       "      <td>URGENCIAS MEDICAS</td>\n",
       "      <td>LLAMADA DEL 911</td>\n",
       "      <td>CUAUHTEMOC</td>\n",
       "      <td>19.43451,-99.14267988</td>\n",
       "      <td>10</td>\n",
       "    </tr>\n",
       "  </tbody>\n",
       "</table>\n",
       "</div>"
      ],
      "text/plain": [
       "             folio fecha_creacion hora_creacion dia_semana  \\\n",
       "0  C5/191016/01871     16/10/2019      09:04:53  Miércoles   \n",
       "1  C5/191016/03921     16/10/2019      13:35:39  Miércoles   \n",
       "2  C5/191016/05840     16/10/2019      17:35:24  Miércoles   \n",
       "3  C5/191017/02907     17/10/2019      11:27:11     Jueves   \n",
       "\n",
       "                                       codigo_cierre fecha_cierre  año_cierre  \\\n",
       "0  (A) La unidad de atención a emergencias fue de...   16/10/2019        2019   \n",
       "1  (N) La unidad de atención a emergencias fue de...   16/10/2019        2019   \n",
       "2  (D) El incidente reportado se registró en dos ...   16/10/2019        2019   \n",
       "3  (A) La unidad de atención a emergencias fue de...   17/10/2019        2019   \n",
       "\n",
       "  mes_cierre hora_cierre    delegacion_inicio        incidente_c4   latitud  \\\n",
       "0    Octubre    09:23:53  VENUSTIANO CARRANZA  accidente-ciclista  19.44961   \n",
       "1    Octubre    13:45:34           IZTAPALAPA  accidente-ciclista  19.36409   \n",
       "2    Octubre    17:43:03           CUAUHTEMOC  accidente-ciclista  19.42287   \n",
       "3    Octubre    12:16:53           CUAUHTEMOC  accidente-ciclista  19.43451   \n",
       "\n",
       "   longitud  clas_con_f_alarma     tipo_entrada    delegacion_cierre  \\\n",
       "0 -99.11384  URGENCIAS MEDICAS  LLAMADA DEL 911  VENUSTIANO CARRANZA   \n",
       "1 -99.06687  URGENCIAS MEDICAS  LLAMADA DEL 911           IZTAPALAPA   \n",
       "2 -99.12929  URGENCIAS MEDICAS  LLAMADA DEL 911           CUAUHTEMOC   \n",
       "3 -99.14268  URGENCIAS MEDICAS  LLAMADA DEL 911           CUAUHTEMOC   \n",
       "\n",
       "                   geopoint  mes  \n",
       "0  19.44961002,-99.11383992   10  \n",
       "1     19.36409004,-99.06687   10  \n",
       "2  19.42287003,-99.12929004   10  \n",
       "3     19.43451,-99.14267988   10  "
      ]
     },
     "execution_count": 244,
     "metadata": {},
     "output_type": "execute_result"
    }
   ],
   "source": [
    "incidentes.head(4)"
   ]
  },
  {
   "cell_type": "markdown",
   "metadata": {},
   "source": [
    "Let's work only with the columns that seem relevant for our purposes. "
   ]
  },
  {
   "cell_type": "code",
   "execution_count": 245,
   "metadata": {},
   "outputs": [],
   "source": [
    "incidentes = incidentes[['dia_semana', 'fecha_creacion', 'hora_creacion', 'mes', 'delegacion_inicio', 'latitud', 'longitud', 'geopoint']]"
   ]
  },
  {
   "cell_type": "code",
   "execution_count": 246,
   "metadata": {},
   "outputs": [
    {
     "data": {
      "text/html": [
       "<div>\n",
       "<style scoped>\n",
       "    .dataframe tbody tr th:only-of-type {\n",
       "        vertical-align: middle;\n",
       "    }\n",
       "\n",
       "    .dataframe tbody tr th {\n",
       "        vertical-align: top;\n",
       "    }\n",
       "\n",
       "    .dataframe thead th {\n",
       "        text-align: right;\n",
       "    }\n",
       "</style>\n",
       "<table border=\"1\" class=\"dataframe\">\n",
       "  <thead>\n",
       "    <tr style=\"text-align: right;\">\n",
       "      <th></th>\n",
       "      <th>dia_semana</th>\n",
       "      <th>fecha_creacion</th>\n",
       "      <th>hora_creacion</th>\n",
       "      <th>mes</th>\n",
       "      <th>delegacion_inicio</th>\n",
       "      <th>latitud</th>\n",
       "      <th>longitud</th>\n",
       "      <th>geopoint</th>\n",
       "    </tr>\n",
       "  </thead>\n",
       "  <tbody>\n",
       "    <tr>\n",
       "      <th>0</th>\n",
       "      <td>Miércoles</td>\n",
       "      <td>16/10/2019</td>\n",
       "      <td>09:04:53</td>\n",
       "      <td>10</td>\n",
       "      <td>VENUSTIANO CARRANZA</td>\n",
       "      <td>19.44961</td>\n",
       "      <td>-99.11384</td>\n",
       "      <td>19.44961002,-99.11383992</td>\n",
       "    </tr>\n",
       "    <tr>\n",
       "      <th>1</th>\n",
       "      <td>Miércoles</td>\n",
       "      <td>16/10/2019</td>\n",
       "      <td>13:35:39</td>\n",
       "      <td>10</td>\n",
       "      <td>IZTAPALAPA</td>\n",
       "      <td>19.36409</td>\n",
       "      <td>-99.06687</td>\n",
       "      <td>19.36409004,-99.06687</td>\n",
       "    </tr>\n",
       "    <tr>\n",
       "      <th>2</th>\n",
       "      <td>Miércoles</td>\n",
       "      <td>16/10/2019</td>\n",
       "      <td>17:35:24</td>\n",
       "      <td>10</td>\n",
       "      <td>CUAUHTEMOC</td>\n",
       "      <td>19.42287</td>\n",
       "      <td>-99.12929</td>\n",
       "      <td>19.42287003,-99.12929004</td>\n",
       "    </tr>\n",
       "    <tr>\n",
       "      <th>3</th>\n",
       "      <td>Jueves</td>\n",
       "      <td>17/10/2019</td>\n",
       "      <td>11:27:11</td>\n",
       "      <td>10</td>\n",
       "      <td>CUAUHTEMOC</td>\n",
       "      <td>19.43451</td>\n",
       "      <td>-99.14268</td>\n",
       "      <td>19.43451,-99.14267988</td>\n",
       "    </tr>\n",
       "  </tbody>\n",
       "</table>\n",
       "</div>"
      ],
      "text/plain": [
       "  dia_semana fecha_creacion hora_creacion  mes    delegacion_inicio   latitud  \\\n",
       "0  Miércoles     16/10/2019      09:04:53   10  VENUSTIANO CARRANZA  19.44961   \n",
       "1  Miércoles     16/10/2019      13:35:39   10           IZTAPALAPA  19.36409   \n",
       "2  Miércoles     16/10/2019      17:35:24   10           CUAUHTEMOC  19.42287   \n",
       "3     Jueves     17/10/2019      11:27:11   10           CUAUHTEMOC  19.43451   \n",
       "\n",
       "   longitud                  geopoint  \n",
       "0 -99.11384  19.44961002,-99.11383992  \n",
       "1 -99.06687     19.36409004,-99.06687  \n",
       "2 -99.12929  19.42287003,-99.12929004  \n",
       "3 -99.14268     19.43451,-99.14267988  "
      ]
     },
     "execution_count": 246,
     "metadata": {},
     "output_type": "execute_result"
    }
   ],
   "source": [
    "incidentes.head(4)"
   ]
  },
  {
   "cell_type": "code",
   "execution_count": 247,
   "metadata": {},
   "outputs": [
    {
     "name": "stdout",
     "output_type": "stream",
     "text": [
      "<class 'pandas.core.frame.DataFrame'>\n",
      "RangeIndex: 2924 entries, 0 to 2923\n",
      "Data columns (total 8 columns):\n",
      " #   Column             Non-Null Count  Dtype  \n",
      "---  ------             --------------  -----  \n",
      " 0   dia_semana         2924 non-null   object \n",
      " 1   fecha_creacion     2924 non-null   object \n",
      " 2   hora_creacion      2924 non-null   object \n",
      " 3   mes                2924 non-null   int64  \n",
      " 4   delegacion_inicio  2924 non-null   object \n",
      " 5   latitud            2924 non-null   float64\n",
      " 6   longitud           2924 non-null   float64\n",
      " 7   geopoint           2924 non-null   object \n",
      "dtypes: float64(2), int64(1), object(5)\n",
      "memory usage: 182.9+ KB\n"
     ]
    }
   ],
   "source": [
    "incidentes.info()"
   ]
  },
  {
   "cell_type": "markdown",
   "metadata": {},
   "source": [
    "We should transform the date and hour columns to a single datetime column. Also, let's see the distribution of hours of the reports, to check whether there are any mistakes."
   ]
  },
  {
   "cell_type": "code",
   "execution_count": 248,
   "metadata": {},
   "outputs": [
    {
     "data": {
      "text/plain": [
       "11:12:21    2\n",
       "10:53:17    2\n",
       "18:50:41    2\n",
       "19:19:09    2\n",
       "13:38:00    2\n",
       "           ..\n",
       "17:34:17    1\n",
       "23:02:31    1\n",
       "16:39:14    1\n",
       "19:24:42    1\n",
       "20:48:02    1\n",
       "Name: hora_creacion, Length: 2849, dtype: int64"
      ]
     },
     "execution_count": 248,
     "metadata": {},
     "output_type": "execute_result"
    }
   ],
   "source": [
    "incidentes.hora_creacion.value_counts()"
   ]
  },
  {
   "cell_type": "markdown",
   "metadata": {},
   "source": [
    "All the hours seem to be properly registered."
   ]
  },
  {
   "cell_type": "code",
   "execution_count": 249,
   "metadata": {},
   "outputs": [
    {
     "data": {
      "text/plain": [
       "1166    0.796273148\n",
       "1167     0.48255787\n",
       "1168    0.793344907\n",
       "1169    0.617974537\n",
       "1170    0.756168981\n",
       "1171    0.616134259\n",
       "1172    0.519444444\n",
       "1357    0.706597222\n",
       "1358     0.37505787\n",
       "1359    0.683344907\n",
       "1360    0.626226852\n",
       "1361    0.812592593\n",
       "1609    0.373958333\n",
       "1610    0.377256944\n",
       "2109    0.861365741\n",
       "2164    0.474282407\n",
       "2165    0.799143519\n",
       "2661    0.996238426\n",
       "2749       0.998125\n",
       "Name: hora_creacion, dtype: object"
      ]
     },
     "execution_count": 249,
     "metadata": {},
     "output_type": "execute_result"
    }
   ],
   "source": [
    "incidentes.loc[incidentes['hora_creacion'].str.match(r'\\d\\d:\\d\\d:\\d\\d') == False, 'hora_creacion']"
   ]
  },
  {
   "cell_type": "markdown",
   "metadata": {},
   "source": [
    "However, we have multiple values that do not have the proper format. Also, there does not seem to be a pattern to them. \n",
    "\n",
    "How to handle them? Let's see if they represent time expressed as number of seconds, in decimal form. \n",
    "\n",
    "Therefore, we will asign them the random hour of \"00:00:00\""
   ]
  },
  {
   "cell_type": "code",
   "execution_count": 257,
   "metadata": {},
   "outputs": [
    {
     "data": {
      "text/plain": [
       "40341"
      ]
     },
     "execution_count": 257,
     "metadata": {},
     "output_type": "execute_result"
    }
   ],
   "source": [
    "t = \"11:12:21\"\n",
    "(h, m, s) = t.split(':')\n",
    "result = int(h) * 3600 + int(m) * 60 + int(s)\n",
    "result"
   ]
  },
  {
   "cell_type": "markdown",
   "metadata": {},
   "source": [
    "No, the numbers we had before are too large to represent seconds. "
   ]
  },
  {
   "cell_type": "markdown",
   "metadata": {},
   "source": [
    "Also, they have the proper format, so let's transform the time columns."
   ]
  },
  {
   "cell_type": "markdown",
   "metadata": {},
   "source": [
    "### Data cleaning"
   ]
  },
  {
   "cell_type": "code",
   "execution_count": 250,
   "metadata": {},
   "outputs": [],
   "source": [
    "# Clean day column.\n",
    "incidentes['dia_semana'] = incidentes['dia_semana'].str.lower()"
   ]
  },
  {
   "cell_type": "code",
   "execution_count": 251,
   "metadata": {},
   "outputs": [],
   "source": [
    "# Combine date and time columns\n",
    "fecha_hora = pd.Series(incidentes['fecha_creacion'] + ' ' + incidentes['hora_creacion'])"
   ]
  },
  {
   "cell_type": "code",
   "execution_count": 252,
   "metadata": {},
   "outputs": [],
   "source": [
    "# Insert new column\n",
    "incidentes.insert(1, 'fecha_hora', fecha_hora)"
   ]
  },
  {
   "cell_type": "code",
   "execution_count": 253,
   "metadata": {},
   "outputs": [
    {
     "ename": "ValueError",
     "evalue": "time data '18/02/2020 0.796273148' does not match format '%d/%m/%Y %H:%M:%S' (match)",
     "output_type": "error",
     "traceback": [
      "\u001b[1;31m---------------------------------------------------------------------------\u001b[0m",
      "\u001b[1;31mTypeError\u001b[0m                                 Traceback (most recent call last)",
      "\u001b[1;32m~\\anaconda3\\lib\\site-packages\\pandas\\core\\tools\\datetimes.py\u001b[0m in \u001b[0;36m_convert_listlike_datetimes\u001b[1;34m(arg, format, name, tz, unit, errors, infer_datetime_format, dayfirst, yearfirst, exact)\u001b[0m\n\u001b[0;32m    431\u001b[0m             \u001b[1;32mtry\u001b[0m\u001b[1;33m:\u001b[0m\u001b[1;33m\u001b[0m\u001b[1;33m\u001b[0m\u001b[0m\n\u001b[1;32m--> 432\u001b[1;33m                 \u001b[0mvalues\u001b[0m\u001b[1;33m,\u001b[0m \u001b[0mtz\u001b[0m \u001b[1;33m=\u001b[0m \u001b[0mconversion\u001b[0m\u001b[1;33m.\u001b[0m\u001b[0mdatetime_to_datetime64\u001b[0m\u001b[1;33m(\u001b[0m\u001b[0marg\u001b[0m\u001b[1;33m)\u001b[0m\u001b[1;33m\u001b[0m\u001b[1;33m\u001b[0m\u001b[0m\n\u001b[0m\u001b[0;32m    433\u001b[0m                 \u001b[1;32mreturn\u001b[0m \u001b[0mDatetimeIndex\u001b[0m\u001b[1;33m.\u001b[0m\u001b[0m_simple_new\u001b[0m\u001b[1;33m(\u001b[0m\u001b[0mvalues\u001b[0m\u001b[1;33m,\u001b[0m \u001b[0mname\u001b[0m\u001b[1;33m=\u001b[0m\u001b[0mname\u001b[0m\u001b[1;33m,\u001b[0m \u001b[0mtz\u001b[0m\u001b[1;33m=\u001b[0m\u001b[0mtz\u001b[0m\u001b[1;33m)\u001b[0m\u001b[1;33m\u001b[0m\u001b[1;33m\u001b[0m\u001b[0m\n",
      "\u001b[1;32mpandas\\_libs\\tslibs\\conversion.pyx\u001b[0m in \u001b[0;36mpandas._libs.tslibs.conversion.datetime_to_datetime64\u001b[1;34m()\u001b[0m\n",
      "\u001b[1;31mTypeError\u001b[0m: Unrecognized value type: <class 'str'>",
      "\nDuring handling of the above exception, another exception occurred:\n",
      "\u001b[1;31mValueError\u001b[0m                                Traceback (most recent call last)",
      "\u001b[1;32m<ipython-input-253-25b966da7903>\u001b[0m in \u001b[0;36m<module>\u001b[1;34m\u001b[0m\n\u001b[0;32m      1\u001b[0m \u001b[1;31m# Change new column to datetime format\u001b[0m\u001b[1;33m\u001b[0m\u001b[1;33m\u001b[0m\u001b[1;33m\u001b[0m\u001b[0m\n\u001b[1;32m----> 2\u001b[1;33m \u001b[0mincidentes\u001b[0m\u001b[1;33m[\u001b[0m\u001b[1;34m'fecha_hora'\u001b[0m\u001b[1;33m]\u001b[0m \u001b[1;33m=\u001b[0m \u001b[0mpd\u001b[0m\u001b[1;33m.\u001b[0m\u001b[0mto_datetime\u001b[0m\u001b[1;33m(\u001b[0m\u001b[0mincidentes\u001b[0m\u001b[1;33m[\u001b[0m\u001b[1;34m'fecha_hora'\u001b[0m\u001b[1;33m]\u001b[0m\u001b[1;33m,\u001b[0m \u001b[0mformat\u001b[0m\u001b[1;33m=\u001b[0m\u001b[1;34m'%d/%m/%Y %H:%M:%S'\u001b[0m\u001b[1;33m)\u001b[0m\u001b[1;33m\u001b[0m\u001b[1;33m\u001b[0m\u001b[0m\n\u001b[0m",
      "\u001b[1;32m~\\anaconda3\\lib\\site-packages\\pandas\\core\\tools\\datetimes.py\u001b[0m in \u001b[0;36mto_datetime\u001b[1;34m(arg, errors, dayfirst, yearfirst, utc, format, exact, unit, infer_datetime_format, origin, cache)\u001b[0m\n\u001b[0;32m    726\u001b[0m             \u001b[0mresult\u001b[0m \u001b[1;33m=\u001b[0m \u001b[0marg\u001b[0m\u001b[1;33m.\u001b[0m\u001b[0mmap\u001b[0m\u001b[1;33m(\u001b[0m\u001b[0mcache_array\u001b[0m\u001b[1;33m)\u001b[0m\u001b[1;33m\u001b[0m\u001b[1;33m\u001b[0m\u001b[0m\n\u001b[0;32m    727\u001b[0m         \u001b[1;32melse\u001b[0m\u001b[1;33m:\u001b[0m\u001b[1;33m\u001b[0m\u001b[1;33m\u001b[0m\u001b[0m\n\u001b[1;32m--> 728\u001b[1;33m             \u001b[0mvalues\u001b[0m \u001b[1;33m=\u001b[0m \u001b[0mconvert_listlike\u001b[0m\u001b[1;33m(\u001b[0m\u001b[0marg\u001b[0m\u001b[1;33m.\u001b[0m\u001b[0m_values\u001b[0m\u001b[1;33m,\u001b[0m \u001b[0mformat\u001b[0m\u001b[1;33m)\u001b[0m\u001b[1;33m\u001b[0m\u001b[1;33m\u001b[0m\u001b[0m\n\u001b[0m\u001b[0;32m    729\u001b[0m             \u001b[0mresult\u001b[0m \u001b[1;33m=\u001b[0m \u001b[0marg\u001b[0m\u001b[1;33m.\u001b[0m\u001b[0m_constructor\u001b[0m\u001b[1;33m(\u001b[0m\u001b[0mvalues\u001b[0m\u001b[1;33m,\u001b[0m \u001b[0mindex\u001b[0m\u001b[1;33m=\u001b[0m\u001b[0marg\u001b[0m\u001b[1;33m.\u001b[0m\u001b[0mindex\u001b[0m\u001b[1;33m,\u001b[0m \u001b[0mname\u001b[0m\u001b[1;33m=\u001b[0m\u001b[0marg\u001b[0m\u001b[1;33m.\u001b[0m\u001b[0mname\u001b[0m\u001b[1;33m)\u001b[0m\u001b[1;33m\u001b[0m\u001b[1;33m\u001b[0m\u001b[0m\n\u001b[0;32m    730\u001b[0m     \u001b[1;32melif\u001b[0m \u001b[0misinstance\u001b[0m\u001b[1;33m(\u001b[0m\u001b[0marg\u001b[0m\u001b[1;33m,\u001b[0m \u001b[1;33m(\u001b[0m\u001b[0mABCDataFrame\u001b[0m\u001b[1;33m,\u001b[0m \u001b[0mabc\u001b[0m\u001b[1;33m.\u001b[0m\u001b[0mMutableMapping\u001b[0m\u001b[1;33m)\u001b[0m\u001b[1;33m)\u001b[0m\u001b[1;33m:\u001b[0m\u001b[1;33m\u001b[0m\u001b[1;33m\u001b[0m\u001b[0m\n",
      "\u001b[1;32m~\\anaconda3\\lib\\site-packages\\pandas\\core\\tools\\datetimes.py\u001b[0m in \u001b[0;36m_convert_listlike_datetimes\u001b[1;34m(arg, format, name, tz, unit, errors, infer_datetime_format, dayfirst, yearfirst, exact)\u001b[0m\n\u001b[0;32m    433\u001b[0m                 \u001b[1;32mreturn\u001b[0m \u001b[0mDatetimeIndex\u001b[0m\u001b[1;33m.\u001b[0m\u001b[0m_simple_new\u001b[0m\u001b[1;33m(\u001b[0m\u001b[0mvalues\u001b[0m\u001b[1;33m,\u001b[0m \u001b[0mname\u001b[0m\u001b[1;33m=\u001b[0m\u001b[0mname\u001b[0m\u001b[1;33m,\u001b[0m \u001b[0mtz\u001b[0m\u001b[1;33m=\u001b[0m\u001b[0mtz\u001b[0m\u001b[1;33m)\u001b[0m\u001b[1;33m\u001b[0m\u001b[1;33m\u001b[0m\u001b[0m\n\u001b[0;32m    434\u001b[0m             \u001b[1;32mexcept\u001b[0m \u001b[1;33m(\u001b[0m\u001b[0mValueError\u001b[0m\u001b[1;33m,\u001b[0m \u001b[0mTypeError\u001b[0m\u001b[1;33m)\u001b[0m\u001b[1;33m:\u001b[0m\u001b[1;33m\u001b[0m\u001b[1;33m\u001b[0m\u001b[0m\n\u001b[1;32m--> 435\u001b[1;33m                 \u001b[1;32mraise\u001b[0m \u001b[0me\u001b[0m\u001b[1;33m\u001b[0m\u001b[1;33m\u001b[0m\u001b[0m\n\u001b[0m\u001b[0;32m    436\u001b[0m \u001b[1;33m\u001b[0m\u001b[0m\n\u001b[0;32m    437\u001b[0m     \u001b[1;32mif\u001b[0m \u001b[0mresult\u001b[0m \u001b[1;32mis\u001b[0m \u001b[1;32mNone\u001b[0m\u001b[1;33m:\u001b[0m\u001b[1;33m\u001b[0m\u001b[1;33m\u001b[0m\u001b[0m\n",
      "\u001b[1;32m~\\anaconda3\\lib\\site-packages\\pandas\\core\\tools\\datetimes.py\u001b[0m in \u001b[0;36m_convert_listlike_datetimes\u001b[1;34m(arg, format, name, tz, unit, errors, infer_datetime_format, dayfirst, yearfirst, exact)\u001b[0m\n\u001b[0;32m    398\u001b[0m                 \u001b[1;32mtry\u001b[0m\u001b[1;33m:\u001b[0m\u001b[1;33m\u001b[0m\u001b[1;33m\u001b[0m\u001b[0m\n\u001b[0;32m    399\u001b[0m                     result, timezones = array_strptime(\n\u001b[1;32m--> 400\u001b[1;33m                         \u001b[0marg\u001b[0m\u001b[1;33m,\u001b[0m \u001b[0mformat\u001b[0m\u001b[1;33m,\u001b[0m \u001b[0mexact\u001b[0m\u001b[1;33m=\u001b[0m\u001b[0mexact\u001b[0m\u001b[1;33m,\u001b[0m \u001b[0merrors\u001b[0m\u001b[1;33m=\u001b[0m\u001b[0merrors\u001b[0m\u001b[1;33m\u001b[0m\u001b[1;33m\u001b[0m\u001b[0m\n\u001b[0m\u001b[0;32m    401\u001b[0m                     )\n\u001b[0;32m    402\u001b[0m                     \u001b[1;32mif\u001b[0m \u001b[1;34m\"%Z\"\u001b[0m \u001b[1;32min\u001b[0m \u001b[0mformat\u001b[0m \u001b[1;32mor\u001b[0m \u001b[1;34m\"%z\"\u001b[0m \u001b[1;32min\u001b[0m \u001b[0mformat\u001b[0m\u001b[1;33m:\u001b[0m\u001b[1;33m\u001b[0m\u001b[1;33m\u001b[0m\u001b[0m\n",
      "\u001b[1;32mpandas\\_libs\\tslibs\\strptime.pyx\u001b[0m in \u001b[0;36mpandas._libs.tslibs.strptime.array_strptime\u001b[1;34m()\u001b[0m\n",
      "\u001b[1;31mValueError\u001b[0m: time data '18/02/2020 0.796273148' does not match format '%d/%m/%Y %H:%M:%S' (match)"
     ]
    }
   ],
   "source": [
    "# Change new column to datetime format\n",
    "incidentes['fecha_hora'] = pd.to_datetime(incidentes['fecha_hora'], format='%d/%m/%Y %H:%M:%S')"
   ]
  },
  {
   "cell_type": "code",
   "execution_count": null,
   "metadata": {},
   "outputs": [],
   "source": [
    "# Change type of time columns\n",
    "incidentes['fecha_creacion'] = pd.to_datetime(incidentes['fecha_creacion'], format='%d/%m/%Y')\n",
    "incidentes['hora_creacion'] = pd.to_datetime(incidentes['hora_creacion'], format='%H:%M:%S')"
   ]
  },
  {
   "cell_type": "code",
   "execution_count": 215,
   "metadata": {},
   "outputs": [
    {
     "name": "stdout",
     "output_type": "stream",
     "text": [
      "<class 'pandas.core.frame.DataFrame'>\n",
      "RangeIndex: 2924 entries, 0 to 2923\n",
      "Data columns (total 9 columns):\n",
      " #   Column             Non-Null Count  Dtype         \n",
      "---  ------             --------------  -----         \n",
      " 0   dia_semana         2924 non-null   object        \n",
      " 1   fecha_hora         2924 non-null   datetime64[ns]\n",
      " 2   fecha_creacion     2924 non-null   datetime64[ns]\n",
      " 3   hora_creacion      2924 non-null   datetime64[ns]\n",
      " 4   mes                2924 non-null   int64         \n",
      " 5   delegacion_inicio  2924 non-null   object        \n",
      " 6   latitud            2924 non-null   float64       \n",
      " 7   longitud           2924 non-null   float64       \n",
      " 8   geopoint           2924 non-null   object        \n",
      "dtypes: datetime64[ns](3), float64(2), int64(1), object(3)\n",
      "memory usage: 205.7+ KB\n"
     ]
    }
   ],
   "source": [
    "incidentes.info()"
   ]
  },
  {
   "cell_type": "code",
   "execution_count": 216,
   "metadata": {},
   "outputs": [
    {
     "data": {
      "text/html": [
       "<div>\n",
       "<style scoped>\n",
       "    .dataframe tbody tr th:only-of-type {\n",
       "        vertical-align: middle;\n",
       "    }\n",
       "\n",
       "    .dataframe tbody tr th {\n",
       "        vertical-align: top;\n",
       "    }\n",
       "\n",
       "    .dataframe thead th {\n",
       "        text-align: right;\n",
       "    }\n",
       "</style>\n",
       "<table border=\"1\" class=\"dataframe\">\n",
       "  <thead>\n",
       "    <tr style=\"text-align: right;\">\n",
       "      <th></th>\n",
       "      <th>dia_semana</th>\n",
       "      <th>fecha_hora</th>\n",
       "      <th>fecha_creacion</th>\n",
       "      <th>hora_creacion</th>\n",
       "      <th>mes</th>\n",
       "      <th>delegacion_inicio</th>\n",
       "      <th>latitud</th>\n",
       "      <th>longitud</th>\n",
       "      <th>geopoint</th>\n",
       "    </tr>\n",
       "  </thead>\n",
       "  <tbody>\n",
       "    <tr>\n",
       "      <th>0</th>\n",
       "      <td>Miércoles</td>\n",
       "      <td>2019-10-16 09:04:53</td>\n",
       "      <td>2019-10-16</td>\n",
       "      <td>1900-01-01 09:04:53</td>\n",
       "      <td>10</td>\n",
       "      <td>VENUSTIANO CARRANZA</td>\n",
       "      <td>19.44961</td>\n",
       "      <td>-99.11384</td>\n",
       "      <td>19.44961002,-99.11383992</td>\n",
       "    </tr>\n",
       "    <tr>\n",
       "      <th>1</th>\n",
       "      <td>Miércoles</td>\n",
       "      <td>2019-10-16 13:35:39</td>\n",
       "      <td>2019-10-16</td>\n",
       "      <td>1900-01-01 13:35:39</td>\n",
       "      <td>10</td>\n",
       "      <td>IZTAPALAPA</td>\n",
       "      <td>19.36409</td>\n",
       "      <td>-99.06687</td>\n",
       "      <td>19.36409004,-99.06687</td>\n",
       "    </tr>\n",
       "    <tr>\n",
       "      <th>2</th>\n",
       "      <td>Miércoles</td>\n",
       "      <td>2019-10-16 17:35:24</td>\n",
       "      <td>2019-10-16</td>\n",
       "      <td>1900-01-01 17:35:24</td>\n",
       "      <td>10</td>\n",
       "      <td>CUAUHTEMOC</td>\n",
       "      <td>19.42287</td>\n",
       "      <td>-99.12929</td>\n",
       "      <td>19.42287003,-99.12929004</td>\n",
       "    </tr>\n",
       "    <tr>\n",
       "      <th>3</th>\n",
       "      <td>Jueves</td>\n",
       "      <td>2019-10-17 11:27:11</td>\n",
       "      <td>2019-10-17</td>\n",
       "      <td>1900-01-01 11:27:11</td>\n",
       "      <td>10</td>\n",
       "      <td>CUAUHTEMOC</td>\n",
       "      <td>19.43451</td>\n",
       "      <td>-99.14268</td>\n",
       "      <td>19.43451,-99.14267988</td>\n",
       "    </tr>\n",
       "    <tr>\n",
       "      <th>4</th>\n",
       "      <td>Viernes</td>\n",
       "      <td>2019-10-18 18:11:00</td>\n",
       "      <td>2019-10-18</td>\n",
       "      <td>1900-01-01 18:11:00</td>\n",
       "      <td>10</td>\n",
       "      <td>BENITO JUAREZ</td>\n",
       "      <td>19.38966</td>\n",
       "      <td>-99.18504</td>\n",
       "      <td>19.38966003,-99.18504</td>\n",
       "    </tr>\n",
       "  </tbody>\n",
       "</table>\n",
       "</div>"
      ],
      "text/plain": [
       "  dia_semana          fecha_hora fecha_creacion       hora_creacion  mes  \\\n",
       "0  Miércoles 2019-10-16 09:04:53     2019-10-16 1900-01-01 09:04:53   10   \n",
       "1  Miércoles 2019-10-16 13:35:39     2019-10-16 1900-01-01 13:35:39   10   \n",
       "2  Miércoles 2019-10-16 17:35:24     2019-10-16 1900-01-01 17:35:24   10   \n",
       "3     Jueves 2019-10-17 11:27:11     2019-10-17 1900-01-01 11:27:11   10   \n",
       "4    Viernes 2019-10-18 18:11:00     2019-10-18 1900-01-01 18:11:00   10   \n",
       "\n",
       "     delegacion_inicio   latitud  longitud                  geopoint  \n",
       "0  VENUSTIANO CARRANZA  19.44961 -99.11384  19.44961002,-99.11383992  \n",
       "1           IZTAPALAPA  19.36409 -99.06687     19.36409004,-99.06687  \n",
       "2           CUAUHTEMOC  19.42287 -99.12929  19.42287003,-99.12929004  \n",
       "3           CUAUHTEMOC  19.43451 -99.14268     19.43451,-99.14267988  \n",
       "4        BENITO JUAREZ  19.38966 -99.18504     19.38966003,-99.18504  "
      ]
     },
     "execution_count": 216,
     "metadata": {},
     "output_type": "execute_result"
    }
   ],
   "source": [
    "incidentes.head()"
   ]
  },
  {
   "cell_type": "code",
   "execution_count": 30,
   "metadata": {},
   "outputs": [],
   "source": [
    "incidentes['dia_semana'] = incidentes['dia_semana'].str.replace('á', 'a').str.replace('é', 'e')"
   ]
  },
  {
   "cell_type": "code",
   "execution_count": 31,
   "metadata": {},
   "outputs": [],
   "source": [
    "incidentes['hora'] = incidentes['fecha_hora'].dt.hour\n",
    "incidentes['año'] = incidentes['fecha_hora'].dt.year\n",
    "incidentes['mes'] = incidentes['fecha_hora'].dt.month"
   ]
  },
  {
   "cell_type": "code",
   "execution_count": 32,
   "metadata": {},
   "outputs": [
    {
     "data": {
      "text/plain": [
       "{'enero': 1,\n",
       " 'febrero': 2,\n",
       " 'marzo': 3,\n",
       " 'abril': 4,\n",
       " 'mayo': 5,\n",
       " 'junio': 6,\n",
       " 'julio': 7,\n",
       " 'agosto': 8,\n",
       " 'septiembre': 9,\n",
       " 'octubre': 10,\n",
       " 'noviembre': 11,\n",
       " 'diciembre': 12}"
      ]
     },
     "execution_count": 32,
     "metadata": {},
     "output_type": "execute_result"
    }
   ],
   "source": [
    "dict_meses"
   ]
  },
  {
   "cell_type": "code",
   "execution_count": 33,
   "metadata": {},
   "outputs": [],
   "source": [
    "incidentes['mes'] = incidentes['mes'].map(dict_meses_inverso)"
   ]
  },
  {
   "cell_type": "code",
   "execution_count": 34,
   "metadata": {},
   "outputs": [],
   "source": [
    "incidentes_final = incidentes"
   ]
  },
  {
   "cell_type": "code",
   "execution_count": 35,
   "metadata": {},
   "outputs": [],
   "source": [
    "incidentes_final.to_csv('Data/incidentes_final.csv', index=False)"
   ]
  },
  {
   "cell_type": "markdown",
   "metadata": {},
   "source": [
    "## Estudio 2018 Ciclismo"
   ]
  },
  {
   "cell_type": "code",
   "execution_count": 36,
   "metadata": {},
   "outputs": [],
   "source": [
    "pd.set_option('display.max_columns', 500)"
   ]
  },
  {
   "cell_type": "code",
   "execution_count": 37,
   "metadata": {},
   "outputs": [],
   "source": [
    "columnas = ['CALLE_LEV', 'F1', 'P1', 'P3', 'P6', 'P15', 'P18', 'P19', 'P20', 'P21_NIVEL', 'P23_1']\n",
    "nombres = ['calle_lev', 'edad', 'origen', 'destino', 'motivo_viaje', 'motivo_dejar_bici', 'robado_bici', 'robo_forma', 'sexo', 'educacion', 'ingreso_mensual']"
   ]
  },
  {
   "cell_type": "code",
   "execution_count": 38,
   "metadata": {},
   "outputs": [],
   "source": [
    "estudio1 = estudio[columnas]"
   ]
  },
  {
   "cell_type": "code",
   "execution_count": 39,
   "metadata": {},
   "outputs": [],
   "source": [
    "ch_columnas = estudio1.columns.tolist()\n",
    "res = {ch_columnas[i]: nombres[i] for i in range(len(ch_columnas))}"
   ]
  },
  {
   "cell_type": "code",
   "execution_count": 40,
   "metadata": {
    "scrolled": true
   },
   "outputs": [],
   "source": [
    "estudio1 = estudio1.rename(columns=res)"
   ]
  },
  {
   "cell_type": "code",
   "execution_count": 41,
   "metadata": {},
   "outputs": [],
   "source": [
    "dict_sexo = {1: 'Hombre', 2:'Mujer'}\n",
    "dict_robado_bici = {1:'Sí', 2:'No', 8:'No sabe', 9:'No contestó'}\n",
    "dict_robo_forma = {1:'Estacionada', 2:'En movimiento', 8:'No sabe', 9:'No contestó'}\n",
    "dict_motivo_dejar_bici = {1:'Lesión o incapacidad',\n",
    "                         2:'Fala mecánica de bici',\n",
    "                         3: 'Cambio de trabajo',\n",
    "                         4: 'Llevar prisa',\n",
    "                         5: 'Recorrido muy largo',\n",
    "                         6: 'Falta de infraestructura',\n",
    "                         7: 'Clima',\n",
    "                         8: 'Inseguridad',\n",
    "                         9: 'No haya bici disponible',\n",
    "                         10: 'Ningún motivo',\n",
    "                         11: 'No sé',\n",
    "                         12: 'No contestó'}"
   ]
  },
  {
   "cell_type": "code",
   "execution_count": 42,
   "metadata": {},
   "outputs": [],
   "source": [
    "estudio1['sexo'] = estudio1['sexo'].map(dict_sexo)\n",
    "estudio1['robado_bici'] = estudio1['robado_bici'].map(dict_robado_bici)\n",
    "estudio1['robo_forma'] = estudio1['robo_forma'].map(dict_robo_forma)\n",
    "estudio1['motivo_dejar_bici'] = estudio1['motivo_dejar_bici'].map(dict_motivo_dejar_bici)"
   ]
  },
  {
   "cell_type": "code",
   "execution_count": 43,
   "metadata": {},
   "outputs": [
    {
     "data": {
      "text/html": [
       "<div>\n",
       "<style scoped>\n",
       "    .dataframe tbody tr th:only-of-type {\n",
       "        vertical-align: middle;\n",
       "    }\n",
       "\n",
       "    .dataframe tbody tr th {\n",
       "        vertical-align: top;\n",
       "    }\n",
       "\n",
       "    .dataframe thead th {\n",
       "        text-align: right;\n",
       "    }\n",
       "</style>\n",
       "<table border=\"1\" class=\"dataframe\">\n",
       "  <thead>\n",
       "    <tr style=\"text-align: right;\">\n",
       "      <th></th>\n",
       "      <th>calle_lev</th>\n",
       "      <th>edad</th>\n",
       "      <th>origen</th>\n",
       "      <th>destino</th>\n",
       "      <th>motivo_viaje</th>\n",
       "      <th>motivo_dejar_bici</th>\n",
       "      <th>robado_bici</th>\n",
       "      <th>robo_forma</th>\n",
       "      <th>sexo</th>\n",
       "      <th>educacion</th>\n",
       "      <th>ingreso_mensual</th>\n",
       "    </tr>\n",
       "  </thead>\n",
       "  <tbody>\n",
       "    <tr>\n",
       "      <th>0</th>\n",
       "      <td>CAMINO VIEJO A MIXCOAC</td>\n",
       "      <td>48</td>\n",
       "      <td>2</td>\n",
       "      <td>1</td>\n",
       "      <td>2</td>\n",
       "      <td>Cambio de trabajo</td>\n",
       "      <td>Sí</td>\n",
       "      <td>Estacionada</td>\n",
       "      <td>Hombre</td>\n",
       "      <td>4</td>\n",
       "      <td>3</td>\n",
       "    </tr>\n",
       "    <tr>\n",
       "      <th>1</th>\n",
       "      <td>VASCO DE QUIROGA</td>\n",
       "      <td>35</td>\n",
       "      <td>1</td>\n",
       "      <td>3</td>\n",
       "      <td>9</td>\n",
       "      <td>Ningún motivo</td>\n",
       "      <td>No</td>\n",
       "      <td>NaN</td>\n",
       "      <td>Hombre</td>\n",
       "      <td>9</td>\n",
       "      <td>6</td>\n",
       "    </tr>\n",
       "    <tr>\n",
       "      <th>2</th>\n",
       "      <td>VASCO DE QUIROGA</td>\n",
       "      <td>43</td>\n",
       "      <td>2</td>\n",
       "      <td>2</td>\n",
       "      <td>1</td>\n",
       "      <td>Ningún motivo</td>\n",
       "      <td>No</td>\n",
       "      <td>NaN</td>\n",
       "      <td>Hombre</td>\n",
       "      <td>3</td>\n",
       "      <td>4</td>\n",
       "    </tr>\n",
       "    <tr>\n",
       "      <th>3</th>\n",
       "      <td>POSTA</td>\n",
       "      <td>54</td>\n",
       "      <td>1</td>\n",
       "      <td>7</td>\n",
       "      <td>9</td>\n",
       "      <td>Cambio de trabajo</td>\n",
       "      <td>No</td>\n",
       "      <td>NaN</td>\n",
       "      <td>Hombre</td>\n",
       "      <td>4</td>\n",
       "      <td>4</td>\n",
       "    </tr>\n",
       "    <tr>\n",
       "      <th>4</th>\n",
       "      <td>CALZADA DE LOS LEONES</td>\n",
       "      <td>35</td>\n",
       "      <td>1</td>\n",
       "      <td>4</td>\n",
       "      <td>4</td>\n",
       "      <td>Ningún motivo</td>\n",
       "      <td>No</td>\n",
       "      <td>NaN</td>\n",
       "      <td>Hombre</td>\n",
       "      <td>8</td>\n",
       "      <td>5</td>\n",
       "    </tr>\n",
       "  </tbody>\n",
       "</table>\n",
       "</div>"
      ],
      "text/plain": [
       "                calle_lev  edad  origen  destino  motivo_viaje  \\\n",
       "0  CAMINO VIEJO A MIXCOAC    48       2        1             2   \n",
       "1        VASCO DE QUIROGA    35       1        3             9   \n",
       "2        VASCO DE QUIROGA    43       2        2             1   \n",
       "3                   POSTA    54       1        7             9   \n",
       "4   CALZADA DE LOS LEONES    35       1        4             4   \n",
       "\n",
       "   motivo_dejar_bici robado_bici   robo_forma    sexo  educacion  \\\n",
       "0  Cambio de trabajo          Sí  Estacionada  Hombre          4   \n",
       "1      Ningún motivo          No          NaN  Hombre          9   \n",
       "2      Ningún motivo          No          NaN  Hombre          3   \n",
       "3  Cambio de trabajo          No          NaN  Hombre          4   \n",
       "4      Ningún motivo          No          NaN  Hombre          8   \n",
       "\n",
       "   ingreso_mensual  \n",
       "0                3  \n",
       "1                6  \n",
       "2                4  \n",
       "3                4  \n",
       "4                5  "
      ]
     },
     "execution_count": 43,
     "metadata": {},
     "output_type": "execute_result"
    }
   ],
   "source": [
    "estudio1.head() "
   ]
  },
  {
   "cell_type": "code",
   "execution_count": 44,
   "metadata": {},
   "outputs": [],
   "source": [
    "estudio_final = estudio1"
   ]
  },
  {
   "cell_type": "code",
   "execution_count": 45,
   "metadata": {},
   "outputs": [],
   "source": [
    "estudio_final.to_csv('estudio_final.csv', index=False)"
   ]
  },
  {
   "cell_type": "markdown",
   "metadata": {},
   "source": [
    "## Motivo de que dejarían bici"
   ]
  },
  {
   "cell_type": "code",
   "execution_count": 46,
   "metadata": {},
   "outputs": [],
   "source": [
    "a = pd.Series(estudio_final['motivo_dejar_bici'].value_counts())"
   ]
  },
  {
   "cell_type": "code",
   "execution_count": 47,
   "metadata": {},
   "outputs": [],
   "source": [
    "a.to_csv('Data/motivo_dejar_final.csv')"
   ]
  }
 ],
 "metadata": {
  "kernelspec": {
   "display_name": "Python 3",
   "language": "python",
   "name": "python3"
  },
  "language_info": {
   "codemirror_mode": {
    "name": "ipython",
    "version": 3
   },
   "file_extension": ".py",
   "mimetype": "text/x-python",
   "name": "python",
   "nbconvert_exporter": "python",
   "pygments_lexer": "ipython3",
   "version": "3.7.9"
  }
 },
 "nbformat": 4,
 "nbformat_minor": 4
}
